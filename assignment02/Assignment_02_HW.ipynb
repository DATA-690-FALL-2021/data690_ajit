{
  "nbformat": 4,
  "nbformat_minor": 0,
  "metadata": {
    "colab": {
      "name": "Assignment 02_HW.ipynb",
      "provenance": [],
      "authorship_tag": "ABX9TyODnx7S/P3frxoCSjXwn7PI",
      "include_colab_link": true
    },
    "kernelspec": {
      "name": "python3",
      "display_name": "Python 3"
    },
    "language_info": {
      "name": "python"
    }
  },
  "cells": [
    {
      "cell_type": "markdown",
      "metadata": {
        "id": "view-in-github",
        "colab_type": "text"
      },
      "source": [
        "<a href=\"https://colab.research.google.com/github/ajitjadhav10/data690_ajit/blob/main/assignment02/Assignment_02_HW.ipynb\" target=\"_parent\"><img src=\"https://colab.research.google.com/assets/colab-badge.svg\" alt=\"Open In Colab\"/></a>"
      ]
    },
    {
      "cell_type": "markdown",
      "metadata": {
        "id": "x_XPA-J8aTJN"
      },
      "source": [
        "### Assignment 2 for **DATA 690 by Professor Wang**\n",
        "##### Name: Ajit Jadhav\n"
      ]
    },
    {
      "cell_type": "markdown",
      "metadata": {
        "id": "wtQk6YpGahpU"
      },
      "source": [
        "#### 1. Prompting the user to enter 10 integers:"
      ]
    },
    {
      "cell_type": "code",
      "metadata": {
        "colab": {
          "base_uri": "https://localhost:8080/"
        },
        "id": "QuOxwdaf68CM",
        "outputId": "b089dd6f-54ed-46b0-9f2f-2aecb5b0a6db"
      },
      "source": [
        "the_list = []\n",
        "\n",
        "for i in range(0,10):\n",
        "  while True:\n",
        "    x=input(\"Please enter an integer: \")\n",
        "    try: \n",
        "      y=int(x)\n",
        "      the_list.append(y)\n",
        "      print(\"The integer is \",y)\n",
        "      break\n",
        "    except:\n",
        "      print(\"You must enter an integer. Please try again.\")\n",
        "    \n",
        "print(\"You have entered:\", the_list)"
      ],
      "execution_count": null,
      "outputs": [
        {
          "output_type": "stream",
          "name": "stdout",
          "text": [
            "Please enter an integer: 1\n",
            "The integer is  1\n",
            "Please enter an integer: 2\n",
            "The integer is  2\n",
            "Please enter an integer: 3\n",
            "The integer is  3\n",
            "Please enter an integer: 4\n",
            "The integer is  4\n",
            "Please enter an integer: 5\n",
            "The integer is  5\n",
            "Please enter an integer: 6\n",
            "The integer is  6\n",
            "Please enter an integer: 7\n",
            "The integer is  7\n",
            "Please enter an integer: 8\n",
            "The integer is  8\n",
            "Please enter an integer: 9\n",
            "The integer is  9\n",
            "Please enter an integer: 0\n",
            "The integer is  0\n",
            "You have entered: [1, 2, 3, 4, 5, 6, 7, 8, 9, 0]\n"
          ]
        }
      ]
    },
    {
      "cell_type": "markdown",
      "metadata": {
        "id": "gwo2aXfs-gqG"
      },
      "source": [
        "#### 2. Finding the maximum value from the list:\n",
        "\n",
        "\n",
        "\n"
      ]
    },
    {
      "cell_type": "code",
      "metadata": {
        "colab": {
          "base_uri": "https://localhost:8080/"
        },
        "id": "0Xzkq78r9RXV",
        "outputId": "2304f195-ecee-4722-e01f-eaf9eaf51e6d"
      },
      "source": [
        "maxvalue= the_list [0]\n",
        "for i in range (0,len(the_list),1):\n",
        "  if maxvalue < the_list[i]:\n",
        "    maxvalue=the_list[i]\n",
        "print(maxvalue)\n"
      ],
      "execution_count": null,
      "outputs": [
        {
          "output_type": "stream",
          "name": "stdout",
          "text": [
            "9\n"
          ]
        }
      ]
    },
    {
      "cell_type": "markdown",
      "metadata": {
        "id": "NHQYgznjapFV"
      },
      "source": [
        "#### 3. Finding the minimum value from the list:\n"
      ]
    },
    {
      "cell_type": "code",
      "metadata": {
        "colab": {
          "base_uri": "https://localhost:8080/"
        },
        "id": "QV1l1iAg_Rs8",
        "outputId": "c9658376-1310-4e87-84a4-abfd9ad652c0"
      },
      "source": [
        "minvalue= the_list [0]\n",
        "for i in range (0,len(the_list),1):\n",
        "  if minvalue > the_list[i]:\n",
        "    minvalue=the_list[i]\n",
        "print(minvalue)"
      ],
      "execution_count": null,
      "outputs": [
        {
          "output_type": "stream",
          "name": "stdout",
          "text": [
            "0\n"
          ]
        }
      ]
    },
    {
      "cell_type": "markdown",
      "metadata": {
        "id": "GqGAoNEpatSH"
      },
      "source": [
        "#### 4. Finding the range of the list:\n",
        "- Range is defined and the difference between the maximum value and the minimum value"
      ]
    },
    {
      "cell_type": "code",
      "metadata": {
        "colab": {
          "base_uri": "https://localhost:8080/"
        },
        "id": "16QNMbLO_5pk",
        "outputId": "451d1641-14be-4811-b5dd-6f4b6b960f55"
      },
      "source": [
        "range_of_list= maxvalue - minvalue\n",
        "print(range)"
      ],
      "execution_count": null,
      "outputs": [
        {
          "output_type": "stream",
          "name": "stdout",
          "text": [
            "9\n"
          ]
        }
      ]
    },
    {
      "cell_type": "markdown",
      "metadata": {
        "id": "12nmRHmOa00P"
      },
      "source": [
        "#### 5. Finding the mean of the list:\n"
      ]
    },
    {
      "cell_type": "code",
      "metadata": {
        "colab": {
          "base_uri": "https://localhost:8080/"
        },
        "id": "DdRK_lTCAhEg",
        "outputId": "07358d6b-e8b5-4d05-c7c4-4c9800f9f036"
      },
      "source": [
        "total = 0\n",
        "for i in the_list:\n",
        "  total=total+the_list[i]\n",
        "Mean=total/len(the_list)\n",
        "print(\"Sum of all the numbers =\",total)\n",
        "\n",
        "print(\"Mean =\", Mean)"
      ],
      "execution_count": null,
      "outputs": [
        {
          "output_type": "stream",
          "name": "stdout",
          "text": [
            "Sum of all the numbers = 45\n",
            "Mean = 4.5\n"
          ]
        }
      ]
    },
    {
      "cell_type": "markdown",
      "metadata": {
        "id": "bTCeSVFga7Rr"
      },
      "source": [
        "#### 6. Finding the variance:"
      ]
    },
    {
      "cell_type": "code",
      "metadata": {
        "id": "JpUok9AENfpK",
        "colab": {
          "base_uri": "https://localhost:8080/"
        },
        "outputId": "1ce822e9-d75b-40e9-ffb3-c545744328c3"
      },
      "source": [
        "Numerator = 0\n",
        "for i in the_list:\n",
        "  Numerator = Numerator + (i - Mean)**2\n",
        "Numerator = Numerator / len(the_list)\n",
        "print(\"The variance is =\", Numerator)"
      ],
      "execution_count": null,
      "outputs": [
        {
          "output_type": "stream",
          "name": "stdout",
          "text": [
            "The variance is= 8.25\n"
          ]
        }
      ]
    },
    {
      "cell_type": "markdown",
      "metadata": {
        "id": "lU-jgaP2a9No"
      },
      "source": [
        "#### 6. Finding the Standard deviation:\n"
      ]
    },
    {
      "cell_type": "code",
      "metadata": {
        "id": "aqX-1owmObhG",
        "colab": {
          "base_uri": "https://localhost:8080/"
        },
        "outputId": "f29082bf-c9aa-4b0f-cf2f-fe5f865934db"
      },
      "source": [
        "std_deviation=(Numerator**0.5)\n",
        "print(\"Standard Deviation is =\",std_deviation)"
      ],
      "execution_count": null,
      "outputs": [
        {
          "output_type": "stream",
          "name": "stdout",
          "text": [
            "Standard Deviation is = 2.8722813232690143\n"
          ]
        }
      ]
    }
  ]
}