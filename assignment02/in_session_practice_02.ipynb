{
  "nbformat": 4,
  "nbformat_minor": 0,
  "metadata": {
    "colab": {
      "name": "in_session_practice_02.ipynb",
      "provenance": [],
      "authorship_tag": "ABX9TyMguvn1Yl8g9X3/JcO4mnA5",
      "include_colab_link": true
    },
    "kernelspec": {
      "name": "python3",
      "display_name": "Python 3"
    },
    "language_info": {
      "name": "python"
    }
  },
  "cells": [
    {
      "cell_type": "markdown",
      "metadata": {
        "id": "view-in-github",
        "colab_type": "text"
      },
      "source": [
        "<a href=\"https://colab.research.google.com/github/ajitjadhav10/data690_ajit/blob/main/assignment02/in_session_practice_02.ipynb\" target=\"_parent\"><img src=\"https://colab.research.google.com/assets/colab-badge.svg\" alt=\"Open In Colab\"/></a>"
      ]
    },
    {
      "cell_type": "markdown",
      "metadata": {
        "id": "bmJ4I7Rg-dgk"
      },
      "source": [
        "# In session hands-on practice\n",
        "Ajit Jadhav\n",
        "- int\n",
        "- float\n",
        "- str\n",
        "- boolean( True/False, First letter is Upper case)\n",
        "- NaN (Not a number, null value)"
      ]
    },
    {
      "cell_type": "markdown",
      "metadata": {
        "id": "oquJHUsm_PRg"
      },
      "source": [
        "## 1.Simple types\n"
      ]
    },
    {
      "cell_type": "code",
      "metadata": {
        "colab": {
          "base_uri": "https://localhost:8080/"
        },
        "id": "69g-Hrvb-sks",
        "outputId": "aaac0fee-8674-4679-b932-ea71eeed04bd"
      },
      "source": [
        "x = 5   #integer\n",
        "y = 0.5  #float\n",
        "s = \"Hello\" #string, a collection of characters\n",
        "print(x,y,s)\n"
      ],
      "execution_count": 1,
      "outputs": [
        {
          "output_type": "stream",
          "name": "stdout",
          "text": [
            "5 0.5 Hello\n"
          ]
        }
      ]
    },
    {
      "cell_type": "code",
      "metadata": {
        "colab": {
          "base_uri": "https://localhost:8080/"
        },
        "id": "dilzVMoA_4xi",
        "outputId": "9a7f2dd9-f7a0-4f1a-bc44-5bc631e50144"
      },
      "source": [
        "type(x)"
      ],
      "execution_count": 4,
      "outputs": [
        {
          "output_type": "execute_result",
          "data": {
            "text/plain": [
              "int"
            ]
          },
          "metadata": {},
          "execution_count": 4
        }
      ]
    },
    {
      "cell_type": "code",
      "metadata": {
        "colab": {
          "base_uri": "https://localhost:8080/"
        },
        "id": "pRE8E3to__sO",
        "outputId": "bc6d38ef-4cbd-47d3-9038-ef624b5794dc"
      },
      "source": [
        "type(s)"
      ],
      "execution_count": 5,
      "outputs": [
        {
          "output_type": "execute_result",
          "data": {
            "text/plain": [
              "str"
            ]
          },
          "metadata": {},
          "execution_count": 5
        }
      ]
    },
    {
      "cell_type": "markdown",
      "metadata": {
        "id": "-nWiIG-h_YxD"
      },
      "source": [
        "## 2. Collection"
      ]
    },
    {
      "cell_type": "code",
      "metadata": {
        "colab": {
          "base_uri": "https://localhost:8080/"
        },
        "id": "HrOlpEM2_Eq9",
        "outputId": "a77af197-995e-4c89-8463-a4b6e6f990d9"
      },
      "source": [
        "a_list = [1,4,7,10]\n",
        "print(a_list)"
      ],
      "execution_count": 2,
      "outputs": [
        {
          "output_type": "stream",
          "name": "stdout",
          "text": [
            "[1, 4, 7, 10]\n"
          ]
        }
      ]
    },
    {
      "cell_type": "code",
      "metadata": {
        "colab": {
          "base_uri": "https://localhost:8080/"
        },
        "id": "nBHcOEU4_svL",
        "outputId": "f87b1f45-5ab3-4de9-db59-c0bfd1ffec17"
      },
      "source": [
        "type(a_list)"
      ],
      "execution_count": 3,
      "outputs": [
        {
          "output_type": "execute_result",
          "data": {
            "text/plain": [
              "list"
            ]
          },
          "metadata": {},
          "execution_count": 3
        }
      ]
    },
    {
      "cell_type": "markdown",
      "metadata": {
        "id": "USIZr4r1ALfE"
      },
      "source": [
        "## 3. Loop"
      ]
    },
    {
      "cell_type": "code",
      "metadata": {
        "colab": {
          "base_uri": "https://localhost:8080/"
        },
        "id": "IgLNwXmt_0z1",
        "outputId": "c0614e28-14f3-4384-d2d1-36f49d9460a2"
      },
      "source": [
        "for i in a_list:\n",
        "    print(\"integer\", i)"
      ],
      "execution_count": 7,
      "outputs": [
        {
          "output_type": "stream",
          "name": "stdout",
          "text": [
            "integer 1\n",
            "integer 4\n",
            "integer 7\n",
            "integer 10\n"
          ]
        }
      ]
    },
    {
      "cell_type": "markdown",
      "metadata": {
        "id": "sKQ3XhY0BiKU"
      },
      "source": [
        "## 4. Conditions"
      ]
    },
    {
      "cell_type": "code",
      "metadata": {
        "colab": {
          "base_uri": "https://localhost:8080/"
        },
        "id": "f7mFunqTA8IG",
        "outputId": "03af6116-906d-47ab-9341-ee645438782c"
      },
      "source": [
        "print(10 % 2) #modula"
      ],
      "execution_count": 8,
      "outputs": [
        {
          "output_type": "stream",
          "name": "stdout",
          "text": [
            "0\n"
          ]
        }
      ]
    },
    {
      "cell_type": "code",
      "metadata": {
        "colab": {
          "base_uri": "https://localhost:8080/"
        },
        "id": "5ZZpLGw9B-0t",
        "outputId": "7957e0cd-70e5-4a5a-88b0-a3ad7326a2aa"
      },
      "source": [
        "print(23%2) #modula"
      ],
      "execution_count": 9,
      "outputs": [
        {
          "output_type": "stream",
          "name": "stdout",
          "text": [
            "1\n"
          ]
        }
      ]
    },
    {
      "cell_type": "code",
      "metadata": {
        "colab": {
          "base_uri": "https://localhost:8080/"
        },
        "id": "6cmF70pkCGLC",
        "outputId": "ef245f4f-1b2d-435c-9cdf-12b93e4c565b"
      },
      "source": [
        "for i in a_list:\n",
        "  if i % 2 == 1:\n",
        "    print(\"Odd number\", i)"
      ],
      "execution_count": 12,
      "outputs": [
        {
          "output_type": "stream",
          "name": "stdout",
          "text": [
            "Odd number 1\n",
            "Odd number 7\n"
          ]
        }
      ]
    },
    {
      "cell_type": "markdown",
      "metadata": {
        "id": "kgzwMhU3MrJo"
      },
      "source": [
        "## 5. Python build-in functions\n",
        "- range\n",
        "- list()\n",
        "- int()\n",
        "- str()\n",
        "- len() "
      ]
    },
    {
      "cell_type": "code",
      "metadata": {
        "colab": {
          "base_uri": "https://localhost:8080/"
        },
        "id": "NcblfMa5K_1A",
        "outputId": "16085213-a6a2-46f8-cfb4-7aa03d12e912"
      },
      "source": [
        "for i in range(10,21,2): # start= 10, stop =21( upto 20, not including 21 in steps of 2)\n",
        "  print(i)"
      ],
      "execution_count": 15,
      "outputs": [
        {
          "output_type": "stream",
          "name": "stdout",
          "text": [
            "10\n",
            "12\n",
            "14\n",
            "16\n",
            "18\n",
            "20\n"
          ]
        }
      ]
    },
    {
      "cell_type": "code",
      "metadata": {
        "colab": {
          "base_uri": "https://localhost:8080/"
        },
        "id": "g9v0aZ-mLZXL",
        "outputId": "f2b70a6d-37b2-477e-fe4e-c692e4526c44"
      },
      "source": [
        "for j in range(0,5):\n",
        "  print(j)"
      ],
      "execution_count": 19,
      "outputs": [
        {
          "output_type": "stream",
          "name": "stdout",
          "text": [
            "0\n",
            "1\n",
            "2\n",
            "3\n",
            "4\n"
          ]
        }
      ]
    },
    {
      "cell_type": "code",
      "metadata": {
        "colab": {
          "base_uri": "https://localhost:8080/"
        },
        "id": "l6ycvFMNLvzn",
        "outputId": "040a5ef0-9107-498c-b461-666f4c17d978"
      },
      "source": [
        "print(range(0,5))"
      ],
      "execution_count": 21,
      "outputs": [
        {
          "output_type": "stream",
          "name": "stdout",
          "text": [
            "range(0, 5)\n"
          ]
        }
      ]
    },
    {
      "cell_type": "code",
      "metadata": {
        "colab": {
          "base_uri": "https://localhost:8080/"
        },
        "id": "8C0y8IkZMdWS",
        "outputId": "257933db-9422-4df5-f34e-27166e2262e6"
      },
      "source": [
        "print(list(range(0,5)))"
      ],
      "execution_count": 22,
      "outputs": [
        {
          "output_type": "stream",
          "name": "stdout",
          "text": [
            "[0, 1, 2, 3, 4]\n"
          ]
        }
      ]
    },
    {
      "cell_type": "code",
      "metadata": {
        "colab": {
          "base_uri": "https://localhost:8080/"
        },
        "id": "9J5Q8DOTMmnS",
        "outputId": "9a9db9dd-5db2-466a-d435-df60074dca58"
      },
      "source": [
        "x = \"50\"\n",
        "type(x)"
      ],
      "execution_count": 23,
      "outputs": [
        {
          "output_type": "execute_result",
          "data": {
            "text/plain": [
              "str"
            ]
          },
          "metadata": {},
          "execution_count": 23
        }
      ]
    },
    {
      "cell_type": "code",
      "metadata": {
        "colab": {
          "base_uri": "https://localhost:8080/"
        },
        "id": "oi7hWkdJM7SB",
        "outputId": "67029643-71ae-4c55-bd4f-784344db8e82"
      },
      "source": [
        "y=int(x)\n",
        "type(y)"
      ],
      "execution_count": 25,
      "outputs": [
        {
          "output_type": "execute_result",
          "data": {
            "text/plain": [
              "int"
            ]
          },
          "metadata": {},
          "execution_count": 25
        }
      ]
    },
    {
      "cell_type": "code",
      "metadata": {
        "colab": {
          "base_uri": "https://localhost:8080/"
        },
        "id": "FPg6F03mNCB8",
        "outputId": "8a2e0602-948b-48e7-efe2-b6f4e9e59f79"
      },
      "source": [
        "print(x,y)"
      ],
      "execution_count": 26,
      "outputs": [
        {
          "output_type": "stream",
          "name": "stdout",
          "text": [
            "50 50\n"
          ]
        }
      ]
    },
    {
      "cell_type": "markdown",
      "metadata": {
        "id": "AYIUbyp1NgkP"
      },
      "source": [
        "## 6. Accepting User Input"
      ]
    },
    {
      "cell_type": "code",
      "metadata": {
        "colab": {
          "base_uri": "https://localhost:8080/"
        },
        "id": "GWSTg9M6NIel",
        "outputId": "7e7907c8-9be6-446c-de0c-3c62042a267b"
      },
      "source": [
        "x=input(\"Enter an integer:\")"
      ],
      "execution_count": 27,
      "outputs": [
        {
          "name": "stdout",
          "output_type": "stream",
          "text": [
            "Enter an integer:10\n"
          ]
        }
      ]
    },
    {
      "cell_type": "code",
      "metadata": {
        "colab": {
          "base_uri": "https://localhost:8080/"
        },
        "id": "KgWzQfy3NzBc",
        "outputId": "0bd36b6b-c2d4-43d2-eb9f-be0d3479401b"
      },
      "source": [
        "print(x)"
      ],
      "execution_count": 28,
      "outputs": [
        {
          "output_type": "stream",
          "name": "stdout",
          "text": [
            "10\n"
          ]
        }
      ]
    },
    {
      "cell_type": "code",
      "metadata": {
        "colab": {
          "base_uri": "https://localhost:8080/"
        },
        "id": "FU_A602IN7RN",
        "outputId": "07b50c49-5830-4a44-be56-bac0a77a14ed"
      },
      "source": [
        "type(x)"
      ],
      "execution_count": 29,
      "outputs": [
        {
          "output_type": "execute_result",
          "data": {
            "text/plain": [
              "str"
            ]
          },
          "metadata": {},
          "execution_count": 29
        }
      ]
    },
    {
      "cell_type": "code",
      "metadata": {
        "colab": {
          "base_uri": "https://localhost:8080/"
        },
        "id": "u0fM5Uo-ODOJ",
        "outputId": "a29b4861-a60a-46b4-9ec6-740f702a7354"
      },
      "source": [
        "x=input(\"Enter an integer:\")"
      ],
      "execution_count": 30,
      "outputs": [
        {
          "name": "stdout",
          "output_type": "stream",
          "text": [
            "Enter an integer:ajit\n"
          ]
        }
      ]
    },
    {
      "cell_type": "code",
      "metadata": {
        "colab": {
          "base_uri": "https://localhost:8080/"
        },
        "id": "NKPxlWjIOJUh",
        "outputId": "bfe9ee46-924c-40da-8edd-4c819c6d6d0f"
      },
      "source": [
        "print(x)"
      ],
      "execution_count": 32,
      "outputs": [
        {
          "output_type": "stream",
          "name": "stdout",
          "text": [
            "ajit\n"
          ]
        }
      ]
    },
    {
      "cell_type": "markdown",
      "metadata": {
        "id": "xvA8RRN8OY49"
      },
      "source": [
        "## 7. Exception handling"
      ]
    },
    {
      "cell_type": "code",
      "metadata": {
        "colab": {
          "base_uri": "https://localhost:8080/",
          "height": 181
        },
        "id": "fdPUv9fSOMgA",
        "outputId": "d89bd395-e1ad-4504-ab9a-824ff2775924"
      },
      "source": [
        "y=int(x)\n",
        "print(y)"
      ],
      "execution_count": 33,
      "outputs": [
        {
          "output_type": "error",
          "ename": "ValueError",
          "evalue": "ignored",
          "traceback": [
            "\u001b[0;31m---------------------------------------------------------------------------\u001b[0m",
            "\u001b[0;31mValueError\u001b[0m                                Traceback (most recent call last)",
            "\u001b[0;32m<ipython-input-33-e15ce783959a>\u001b[0m in \u001b[0;36m<module>\u001b[0;34m()\u001b[0m\n\u001b[0;32m----> 1\u001b[0;31m \u001b[0my\u001b[0m\u001b[0;34m=\u001b[0m\u001b[0mint\u001b[0m\u001b[0;34m(\u001b[0m\u001b[0mx\u001b[0m\u001b[0;34m)\u001b[0m\u001b[0;34m\u001b[0m\u001b[0;34m\u001b[0m\u001b[0m\n\u001b[0m\u001b[1;32m      2\u001b[0m \u001b[0mprint\u001b[0m\u001b[0;34m(\u001b[0m\u001b[0my\u001b[0m\u001b[0;34m)\u001b[0m\u001b[0;34m\u001b[0m\u001b[0;34m\u001b[0m\u001b[0m\n",
            "\u001b[0;31mValueError\u001b[0m: invalid literal for int() with base 10: 'ajit'"
          ]
        }
      ]
    },
    {
      "cell_type": "code",
      "metadata": {
        "colab": {
          "base_uri": "https://localhost:8080/"
        },
        "id": "jnNezJmSOjjv",
        "outputId": "8cc29982-d589-49c1-b026-2622b57ef7fd"
      },
      "source": [
        "y=int(\"50\")\n",
        "print(y)"
      ],
      "execution_count": 34,
      "outputs": [
        {
          "output_type": "stream",
          "name": "stdout",
          "text": [
            "50\n"
          ]
        }
      ]
    },
    {
      "cell_type": "code",
      "metadata": {
        "colab": {
          "base_uri": "https://localhost:8080/"
        },
        "id": "_MBAJdChOxoz",
        "outputId": "e6eb016a-7577-447a-c83e-2a485b2398a5"
      },
      "source": [
        "x=input(\"Please enter an integer:\")\n",
        "try:\n",
        "  y=int(x)\n",
        "  print(\"got integer:\",y)\n",
        "except:\n",
        "    print(\"Unable to convert user input to an integer\")"
      ],
      "execution_count": 36,
      "outputs": [
        {
          "output_type": "stream",
          "name": "stdout",
          "text": [
            "Please enter an integer:jadhav\n",
            "Unable to convert user input to an integer\n"
          ]
        }
      ]
    },
    {
      "cell_type": "markdown",
      "metadata": {
        "id": "aH3eA82BPvfx"
      },
      "source": [
        "## 7. infinite loop"
      ]
    },
    {
      "cell_type": "code",
      "metadata": {
        "colab": {
          "base_uri": "https://localhost:8080/"
        },
        "id": "_aRtweQtPPb1",
        "outputId": "47478fad-f6f5-4edd-fa6c-ea9622d7ad80"
      },
      "source": [
        "while True:\n",
        "    x= input(\"Please enter an integer:\")\n",
        "    try:\n",
        "        y=int(x)\n",
        "        print(\"got integer:\",y)\n",
        "        break\n",
        "    except:\n",
        "      print(\"You must enter an integer. Please try again.\")"
      ],
      "execution_count": 40,
      "outputs": [
        {
          "output_type": "stream",
          "name": "stdout",
          "text": [
            "Please enter an integerajit\n",
            "You must enter an integer. Please try again.\n",
            "Please enter an integerjadhav\n",
            "You must enter an integer. Please try again.\n",
            "Please enter an integer100\n",
            "got integer: 100\n"
          ]
        }
      ]
    },
    {
      "cell_type": "code",
      "metadata": {
        "colab": {
          "base_uri": "https://localhost:8080/"
        },
        "id": "lHT6UquLQV5S",
        "outputId": "653a8db7-68b9-4fe1-b22e-6ea303f030d1"
      },
      "source": [
        "the_list = []\n",
        "\n",
        "for i in range(0,3):\n",
        "  while True:\n",
        "    x=input(\"please enter an integer\")\n",
        "    try: \n",
        "      y=int(x)\n",
        "      the_list.append(y)\n",
        "      print(\"got an integer\",y)\n",
        "      break\n",
        "    except:\n",
        "      print(\"You must enter an integer. Please try again.\")\n",
        "    \n",
        "print(\"You have entered:\", the_list)"
      ],
      "execution_count": 41,
      "outputs": [
        {
          "output_type": "stream",
          "name": "stdout",
          "text": [
            "please enter an integer10\n",
            "got an integer 10\n",
            "please enter an integer45\n",
            "got an integer 45\n",
            "please enter an integer90\n",
            "got an integer 90\n",
            "You have entered: [10, 45, 90]\n"
          ]
        }
      ]
    },
    {
      "cell_type": "code",
      "metadata": {
        "colab": {
          "base_uri": "https://localhost:8080/"
        },
        "id": "PCHmCao7Wo4X",
        "outputId": "0b253692-0764-423a-9f3a-46c9e0db8f6a"
      },
      "source": [
        "total = 0\n",
        "for i in the_list:\n",
        "  total +=i #total=total+i\n",
        "\n",
        "print(\"total=\", total)"
      ],
      "execution_count": 45,
      "outputs": [
        {
          "output_type": "stream",
          "name": "stdout",
          "text": [
            "total= 145\n"
          ]
        }
      ]
    },
    {
      "cell_type": "code",
      "metadata": {
        "id": "weCOK97dXE65"
      },
      "source": [
        ""
      ],
      "execution_count": null,
      "outputs": []
    }
  ]
}