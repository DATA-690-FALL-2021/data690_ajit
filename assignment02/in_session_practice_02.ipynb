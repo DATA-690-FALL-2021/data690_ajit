{
  "nbformat": 4,
  "nbformat_minor": 0,
  "metadata": {
    "colab": {
      "name": "in_session_practice_02.ipynb",
      "provenance": [],
      "authorship_tag": "ABX9TyOC4jhnpg4+P82q75XU9PMR",
      "include_colab_link": true
    },
    "kernelspec": {
      "name": "python3",
      "display_name": "Python 3"
    },
    "language_info": {
      "name": "python"
    }
  },
  "cells": [
    {
      "cell_type": "markdown",
      "metadata": {
        "id": "view-in-github",
        "colab_type": "text"
      },
      "source": [
        "<a href=\"https://colab.research.google.com/github/ajitjadhav10/data690_ajit/blob/main/assignment02/in_session_practice_02.ipynb\" target=\"_parent\"><img src=\"https://colab.research.google.com/assets/colab-badge.svg\" alt=\"Open In Colab\"/></a>"
      ]
    },
    {
      "cell_type": "markdown",
      "metadata": {
        "id": "bmJ4I7Rg-dgk"
      },
      "source": [
        "# In session hands-on practice\n",
        "Ajit Jadhav"
      ]
    },
    {
      "cell_type": "markdown",
      "metadata": {
        "id": "oquJHUsm_PRg"
      },
      "source": [
        "## 1.Simple types\n"
      ]
    },
    {
      "cell_type": "code",
      "metadata": {
        "colab": {
          "base_uri": "https://localhost:8080/"
        },
        "id": "69g-Hrvb-sks",
        "outputId": "aaac0fee-8674-4679-b932-ea71eeed04bd"
      },
      "source": [
        "x = 5   #integer\n",
        "y = 0.5  #float\n",
        "s = \"Hello\" #string, a collection of characters\n",
        "print(x,y,s)\n"
      ],
      "execution_count": 1,
      "outputs": [
        {
          "output_type": "stream",
          "name": "stdout",
          "text": [
            "5 0.5 Hello\n"
          ]
        }
      ]
    },
    {
      "cell_type": "code",
      "metadata": {
        "colab": {
          "base_uri": "https://localhost:8080/"
        },
        "id": "dilzVMoA_4xi",
        "outputId": "9a7f2dd9-f7a0-4f1a-bc44-5bc631e50144"
      },
      "source": [
        "type(x)"
      ],
      "execution_count": 4,
      "outputs": [
        {
          "output_type": "execute_result",
          "data": {
            "text/plain": [
              "int"
            ]
          },
          "metadata": {},
          "execution_count": 4
        }
      ]
    },
    {
      "cell_type": "code",
      "metadata": {
        "colab": {
          "base_uri": "https://localhost:8080/"
        },
        "id": "pRE8E3to__sO",
        "outputId": "bc6d38ef-4cbd-47d3-9038-ef624b5794dc"
      },
      "source": [
        "type(s)"
      ],
      "execution_count": 5,
      "outputs": [
        {
          "output_type": "execute_result",
          "data": {
            "text/plain": [
              "str"
            ]
          },
          "metadata": {},
          "execution_count": 5
        }
      ]
    },
    {
      "cell_type": "markdown",
      "metadata": {
        "id": "-nWiIG-h_YxD"
      },
      "source": [
        "## 2. Collection"
      ]
    },
    {
      "cell_type": "code",
      "metadata": {
        "colab": {
          "base_uri": "https://localhost:8080/"
        },
        "id": "HrOlpEM2_Eq9",
        "outputId": "a77af197-995e-4c89-8463-a4b6e6f990d9"
      },
      "source": [
        "a_list = [1,4,7,10]\n",
        "print(a_list)"
      ],
      "execution_count": 2,
      "outputs": [
        {
          "output_type": "stream",
          "name": "stdout",
          "text": [
            "[1, 4, 7, 10]\n"
          ]
        }
      ]
    },
    {
      "cell_type": "code",
      "metadata": {
        "colab": {
          "base_uri": "https://localhost:8080/"
        },
        "id": "nBHcOEU4_svL",
        "outputId": "f87b1f45-5ab3-4de9-db59-c0bfd1ffec17"
      },
      "source": [
        "type(a_list)"
      ],
      "execution_count": 3,
      "outputs": [
        {
          "output_type": "execute_result",
          "data": {
            "text/plain": [
              "list"
            ]
          },
          "metadata": {},
          "execution_count": 3
        }
      ]
    },
    {
      "cell_type": "markdown",
      "metadata": {
        "id": "USIZr4r1ALfE"
      },
      "source": [
        "## 3. Loop"
      ]
    },
    {
      "cell_type": "code",
      "metadata": {
        "colab": {
          "base_uri": "https://localhost:8080/"
        },
        "id": "IgLNwXmt_0z1",
        "outputId": "c0614e28-14f3-4384-d2d1-36f49d9460a2"
      },
      "source": [
        "for i in a_list:\n",
        "    print(\"integer\", i)"
      ],
      "execution_count": 7,
      "outputs": [
        {
          "output_type": "stream",
          "name": "stdout",
          "text": [
            "integer 1\n",
            "integer 4\n",
            "integer 7\n",
            "integer 10\n"
          ]
        }
      ]
    },
    {
      "cell_type": "markdown",
      "metadata": {
        "id": "sKQ3XhY0BiKU"
      },
      "source": [
        "## 4. Conditions"
      ]
    },
    {
      "cell_type": "code",
      "metadata": {
        "colab": {
          "base_uri": "https://localhost:8080/"
        },
        "id": "f7mFunqTA8IG",
        "outputId": "03af6116-906d-47ab-9341-ee645438782c"
      },
      "source": [
        "print(10 % 2) #modula"
      ],
      "execution_count": 8,
      "outputs": [
        {
          "output_type": "stream",
          "name": "stdout",
          "text": [
            "0\n"
          ]
        }
      ]
    },
    {
      "cell_type": "code",
      "metadata": {
        "colab": {
          "base_uri": "https://localhost:8080/"
        },
        "id": "5ZZpLGw9B-0t",
        "outputId": "7957e0cd-70e5-4a5a-88b0-a3ad7326a2aa"
      },
      "source": [
        "print(23%2) #modula"
      ],
      "execution_count": 9,
      "outputs": [
        {
          "output_type": "stream",
          "name": "stdout",
          "text": [
            "1\n"
          ]
        }
      ]
    },
    {
      "cell_type": "code",
      "metadata": {
        "colab": {
          "base_uri": "https://localhost:8080/"
        },
        "id": "6cmF70pkCGLC",
        "outputId": "ef245f4f-1b2d-435c-9cdf-12b93e4c565b"
      },
      "source": [
        "for i in a_list:\n",
        "  if i % 2 == 1:\n",
        "    print(\"Odd number\", i)"
      ],
      "execution_count": 12,
      "outputs": [
        {
          "output_type": "stream",
          "name": "stdout",
          "text": [
            "Odd number 1\n",
            "Odd number 7\n"
          ]
        }
      ]
    },
    {
      "cell_type": "code",
      "metadata": {
        "id": "H4doJcWHCqwJ"
      },
      "source": [
        ""
      ],
      "execution_count": null,
      "outputs": []
    }
  ]
}