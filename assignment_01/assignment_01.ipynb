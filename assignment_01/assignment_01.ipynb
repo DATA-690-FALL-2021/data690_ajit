{
  "nbformat": 4,
  "nbformat_minor": 0,
  "metadata": {
    "colab": {
      "name": "assignment_01.ipynb",
      "provenance": [],
      "authorship_tag": "ABX9TyMMqtv2+eQwzcMcEy2TO3ED",
      "include_colab_link": true
    },
    "kernelspec": {
      "name": "python3",
      "display_name": "Python 3"
    },
    "language_info": {
      "name": "python"
    }
  },
  "cells": [
    {
      "cell_type": "markdown",
      "metadata": {
        "id": "view-in-github",
        "colab_type": "text"
      },
      "source": [
        "<a href=\"https://colab.research.google.com/github/ajitjadhav10/data690_ajit/blob/main/assignment_01/assignment_01.ipynb\" target=\"_parent\"><img src=\"https://colab.research.google.com/assets/colab-badge.svg\" alt=\"Open In Colab\"/></a>"
      ]
    },
    {
      "cell_type": "markdown",
      "metadata": {
        "id": "Qb9bKsiZOEkm"
      },
      "source": [
        "\n",
        "# Assignment 1 for DATA 690 2021\n",
        "\n",
        "- Instructor: Dr. Jay Wang\n",
        "- Student: Ajit Jadhav\n",
        "- Date: 09/02/2021\n",
        "\n",
        "This is for demonstrating the use of Jupyter Notebook.\n"
      ]
    },
    {
      "cell_type": "markdown",
      "metadata": {
        "id": "BGVJcIkIQUl_"
      },
      "source": [
        "## 1. Simplest Python Code"
      ]
    },
    {
      "cell_type": "code",
      "metadata": {
        "colab": {
          "base_uri": "https://localhost:8080/"
        },
        "id": "gr5x98TdNqi_",
        "outputId": "01e5ad3f-19d2-4d49-b809-5cbed42a74a4"
      },
      "source": [
        "print (\"Hello World!\") #Practice program"
      ],
      "execution_count": 1,
      "outputs": [
        {
          "output_type": "stream",
          "name": "stdout",
          "text": [
            "Hello World!\n"
          ]
        }
      ]
    },
    {
      "cell_type": "markdown",
      "metadata": {
        "id": "FWr-pTfGQBi2"
      },
      "source": [
        "## 2. Perform multiplication"
      ]
    },
    {
      "cell_type": "code",
      "metadata": {
        "colab": {
          "base_uri": "https://localhost:8080/"
        },
        "id": "3GO6Kns7O42q",
        "outputId": "ed3efb0a-cdd4-49c8-8457-c8c69b055f06"
      },
      "source": [
        "X= 10*2\n",
        "print(X)"
      ],
      "execution_count": 2,
      "outputs": [
        {
          "output_type": "stream",
          "name": "stdout",
          "text": [
            "20\n"
          ]
        }
      ]
    },
    {
      "cell_type": "markdown",
      "metadata": {
        "id": "HvLbSaBJQJMI"
      },
      "source": [
        "## 3. Peform Division"
      ]
    },
    {
      "cell_type": "code",
      "metadata": {
        "colab": {
          "base_uri": "https://localhost:8080/"
        },
        "id": "UOCVUeO0O97r",
        "outputId": "ed0f1a2d-8374-4843-c358-2af976ad6e94"
      },
      "source": [
        "y = 100\n",
        "z = y / X\n",
        "print(z)"
      ],
      "execution_count": 11,
      "outputs": [
        {
          "output_type": "stream",
          "name": "stdout",
          "text": [
            "5.0\n"
          ]
        }
      ]
    },
    {
      "cell_type": "code",
      "metadata": {
        "id": "F5E11lUjPH6P"
      },
      "source": [
        ""
      ],
      "execution_count": null,
      "outputs": []
    }
  ]
}