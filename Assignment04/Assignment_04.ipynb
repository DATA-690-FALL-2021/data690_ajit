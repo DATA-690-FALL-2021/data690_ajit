{
  "nbformat": 4,
  "nbformat_minor": 0,
  "metadata": {
    "colab": {
      "name": "Assignment_04.ipynb",
      "provenance": [],
      "collapsed_sections": [],
      "authorship_tag": "ABX9TyNWkwA5X1pvoXshqR9DQHqD",
      "include_colab_link": true
    },
    "kernelspec": {
      "name": "python3",
      "display_name": "Python 3"
    },
    "language_info": {
      "name": "python"
    }
  },
  "cells": [
    {
      "cell_type": "markdown",
      "metadata": {
        "id": "view-in-github",
        "colab_type": "text"
      },
      "source": [
        "<a href=\"https://colab.research.google.com/github/ajitjadhav10/data690_ajit/blob/main/Assignment04/Assignment_04.ipynb\" target=\"_parent\"><img src=\"https://colab.research.google.com/assets/colab-badge.svg\" alt=\"Open In Colab\"/></a>"
      ]
    },
    {
      "cell_type": "code",
      "metadata": {
        "id": "2mCM0CnF4a4v"
      },
      "source": [
        "import pandas as pd"
      ],
      "execution_count": 129,
      "outputs": []
    },
    {
      "cell_type": "code",
      "metadata": {
        "colab": {
          "base_uri": "https://localhost:8080/"
        },
        "id": "5Waod4E56Rqo",
        "outputId": "b8ebdc85-20cb-43af-87e1-86f6e1ed6527"
      },
      "source": [
        "with open(\"/content/census_cost.txt\",\"r\") as f:\n",
        "    line_list = f.readlines()\n",
        "\n",
        "print(line_list)"
      ],
      "execution_count": 130,
      "outputs": [
        {
          "output_type": "stream",
          "name": "stdout",
          "text": [
            "['Census Year\\tTotal Population\\tCensus Cost\\tAverage Cost Per Person\\n', '1790\\t3,929,214\\t$44,377\\t1.13 cents\\n', '1800\\t5,308,483\\t$66,109\\t1.24 cents\\n', '1810\\t7,239,881\\t$178,445\\t2.46 cents\\n', '1820\\t9,633,822\\t$208,526\\t2.16 cents\\n', '1830\\t12,866,020\\t$378,545\\t2.94 cents\\n', '1840\\t17,069,458\\t$833,371\\t4.88 cents\\n', '1850\\t23,191,876\\t$1,423,351\\t6.14 cents\\n', '1860\\t31,443,321\\t$1,969,377\\t6.26 cents\\n', '1870\\t38,558,371\\t$3,421,198\\t8.87 cents\\n', '1880\\t50,155,783\\t$5,790,678\\t11.54 cents\\n', '1890\\t62,979,766\\t$11,547,127\\t18.33 cents\\n', '1900\\t76,303,387\\t$11,854,000\\t15.54 cents\\n', '1910\\t91,972,266\\t$15,968,000\\t17.07 cents\\n', '1920\\t105,710,620\\t$25,117,000\\t23.76 cents\\n', '1930\\t122,775,046\\t$40,156,000\\t32.71 cents\\n', '1940\\t131,669,275\\t$67,527,000\\t51.29 cents\\n', '1950\\t151,325,798\\t$91,462,000\\t60.44 cents\\n', '1960\\t179,323,175\\t$127,934,000\\t71.34 cents\\n', '1970\\t203,302,031\\t$247,653,000\\t$1.22\\n', '1980\\t226,542,199\\t$1,078,488,000\\t$4.76\\n', '1990\\t248,718,301\\t$2,492,830,000\\t$10.02\\n', '2000\\t281,421,906\\t$4.5 Billion\\t$15.99\\n', '2010*\\t308,745,538\\t$13 Billion\\t$42.11']\n"
          ]
        }
      ]
    },
    {
      "cell_type": "code",
      "metadata": {
        "colab": {
          "base_uri": "https://localhost:8080/"
        },
        "id": "LtImDijX9sRZ",
        "outputId": "3294ee6e-1874-490b-f5b1-abfcbc0b81d3"
      },
      "source": [
        "top2_list=[]\n",
        "top2_list.append(line_list[0])\n",
        "top2_list.append(line_list[1])\n",
        "print(top2_list)"
      ],
      "execution_count": 131,
      "outputs": [
        {
          "output_type": "stream",
          "name": "stdout",
          "text": [
            "['Census Year\\tTotal Population\\tCensus Cost\\tAverage Cost Per Person\\n', '1790\\t3,929,214\\t$44,377\\t1.13 cents\\n']\n"
          ]
        }
      ]
    },
    {
      "cell_type": "code",
      "metadata": {
        "colab": {
          "base_uri": "https://localhost:8080/"
        },
        "id": "9wcqhrKbK84m",
        "outputId": "50f1a92a-7d62-41c4-bec2-90703b75c9fe"
      },
      "source": [
        "data_list=[]\n",
        "for elements in range(2,len(line_list)):\n",
        "    data_list.append(line_list[elements])\n",
        "\n",
        "print(data_list,\"/n\")\n"
      ],
      "execution_count": 132,
      "outputs": [
        {
          "output_type": "stream",
          "name": "stdout",
          "text": [
            "['1800\\t5,308,483\\t$66,109\\t1.24 cents\\n', '1810\\t7,239,881\\t$178,445\\t2.46 cents\\n', '1820\\t9,633,822\\t$208,526\\t2.16 cents\\n', '1830\\t12,866,020\\t$378,545\\t2.94 cents\\n', '1840\\t17,069,458\\t$833,371\\t4.88 cents\\n', '1850\\t23,191,876\\t$1,423,351\\t6.14 cents\\n', '1860\\t31,443,321\\t$1,969,377\\t6.26 cents\\n', '1870\\t38,558,371\\t$3,421,198\\t8.87 cents\\n', '1880\\t50,155,783\\t$5,790,678\\t11.54 cents\\n', '1890\\t62,979,766\\t$11,547,127\\t18.33 cents\\n', '1900\\t76,303,387\\t$11,854,000\\t15.54 cents\\n', '1910\\t91,972,266\\t$15,968,000\\t17.07 cents\\n', '1920\\t105,710,620\\t$25,117,000\\t23.76 cents\\n', '1930\\t122,775,046\\t$40,156,000\\t32.71 cents\\n', '1940\\t131,669,275\\t$67,527,000\\t51.29 cents\\n', '1950\\t151,325,798\\t$91,462,000\\t60.44 cents\\n', '1960\\t179,323,175\\t$127,934,000\\t71.34 cents\\n', '1970\\t203,302,031\\t$247,653,000\\t$1.22\\n', '1980\\t226,542,199\\t$1,078,488,000\\t$4.76\\n', '1990\\t248,718,301\\t$2,492,830,000\\t$10.02\\n', '2000\\t281,421,906\\t$4.5 Billion\\t$15.99\\n', '2010*\\t308,745,538\\t$13 Billion\\t$42.11'] /n\n"
          ]
        }
      ]
    },
    {
      "cell_type": "code",
      "metadata": {
        "colab": {
          "base_uri": "https://localhost:8080/"
        },
        "id": "2wUx7YXXRDtB",
        "outputId": "3fec73b6-bda8-4091-b330-a008dc19cb3a"
      },
      "source": [
        "year_list = []\n",
        "\n",
        "for values in data_list:\n",
        "    elements = values.split(\"\\t\")\n",
        "    year_list.append((elements[0]).replace(\"*\",''))\n",
        "\n",
        "print(year_list)"
      ],
      "execution_count": 133,
      "outputs": [
        {
          "output_type": "stream",
          "name": "stdout",
          "text": [
            "['1800', '1810', '1820', '1830', '1840', '1850', '1860', '1870', '1880', '1890', '1900', '1910', '1920', '1930', '1940', '1950', '1960', '1970', '1980', '1990', '2000', '2010']\n"
          ]
        }
      ]
    },
    {
      "cell_type": "code",
      "metadata": {
        "colab": {
          "base_uri": "https://localhost:8080/"
        },
        "id": "xyJJRhslRr0I",
        "outputId": "fdf9637e-e034-4b8c-80d9-d18388a2490f"
      },
      "source": [
        "pop_list=[]\n",
        "\n",
        "for values in data_list:\n",
        "    elements=values.split(\"\\t\")\n",
        "    pop_list.append((elements[1]).replace(\",\",\"\"))\n",
        "\n",
        "print(pop_list)"
      ],
      "execution_count": 134,
      "outputs": [
        {
          "output_type": "stream",
          "name": "stdout",
          "text": [
            "['5308483', '7239881', '9633822', '12866020', '17069458', '23191876', '31443321', '38558371', '50155783', '62979766', '76303387', '91972266', '105710620', '122775046', '131669275', '151325798', '179323175', '203302031', '226542199', '248718301', '281421906', '308745538']\n"
          ]
        }
      ]
    },
    {
      "cell_type": "code",
      "metadata": {
        "colab": {
          "base_uri": "https://localhost:8080/"
        },
        "id": "nrGd2A2LTb0F",
        "outputId": "1972bc90-0bdc-4e0a-f86c-a6e9770ce741"
      },
      "source": [
        "cost_list=[]\n",
        "\n",
        "for values in data_list:\n",
        "  elements=values.split(\"\\t\")\n",
        "  cost_list.append((elements[2]).replace(\"$\",\"\").replace(\",\",\"\").replace(\" Billion\",\"000000000\"))\n",
        "\n",
        "print(cost_list)"
      ],
      "execution_count": 135,
      "outputs": [
        {
          "output_type": "stream",
          "name": "stdout",
          "text": [
            "['66109', '178445', '208526', '378545', '833371', '1423351', '1969377', '3421198', '5790678', '11547127', '11854000', '15968000', '25117000', '40156000', '67527000', '91462000', '127934000', '247653000', '1078488000', '2492830000', '4.5000000000', '13000000000']\n"
          ]
        }
      ]
    },
    {
      "cell_type": "code",
      "metadata": {
        "colab": {
          "base_uri": "https://localhost:8080/"
        },
        "id": "I3qChgwcYV06",
        "outputId": "fa1c6ee7-e0a0-4090-d5a7-cc6a4ea7aacb"
      },
      "source": [
        "avg_list=[]\n",
        "\n",
        "for values in data_list:\n",
        "  elements=values.split(\"\\t\")\n",
        "  elements[3]=elements[3].replace(\"cents\",\"\").replace(\"$\",\"\").replace(\"\\n\",\"\")\n",
        "  avg_list.append(str(float(elements[3])/100))\n",
        "\n",
        "print(avg_list)"
      ],
      "execution_count": 136,
      "outputs": [
        {
          "output_type": "stream",
          "name": "stdout",
          "text": [
            "['0.0124', '0.0246', '0.0216', '0.0294', '0.048799999999999996', '0.061399999999999996', '0.0626', '0.08869999999999999', '0.11539999999999999', '0.1833', '0.15539999999999998', '0.1707', '0.2376', '0.3271', '0.5129', '0.6043999999999999', '0.7134', '0.012199999999999999', '0.047599999999999996', '0.1002', '0.15990000000000001', '0.4211']\n"
          ]
        }
      ]
    },
    {
      "cell_type": "code",
      "metadata": {
        "colab": {
          "base_uri": "https://localhost:8080/"
        },
        "id": "aA6z20BUhobC",
        "outputId": "c281f321-46d7-4b25-8470-e99cd25e3328"
      },
      "source": [
        "\n",
        "final_list=[]\n",
        "final_list.append(top2_list[0])\n",
        "final_list.append(top2_list[1])\n",
        "for i in range(0,len(pop_list)):\n",
        "    p = year_list[i]+\"  \"+pop_list[i]+\" \"+cost_list[i]+\"  \"+str(avg_list[i])\n",
        "    final_list.append(p)\n",
        "print(final_list)"
      ],
      "execution_count": 137,
      "outputs": [
        {
          "output_type": "stream",
          "name": "stdout",
          "text": [
            "['Census Year\\tTotal Population\\tCensus Cost\\tAverage Cost Per Person\\n', '1790\\t3,929,214\\t$44,377\\t1.13 cents\\n', '1800  5308483 66109  0.0124', '1810  7239881 178445  0.0246', '1820  9633822 208526  0.0216', '1830  12866020 378545  0.0294', '1840  17069458 833371  0.048799999999999996', '1850  23191876 1423351  0.061399999999999996', '1860  31443321 1969377  0.0626', '1870  38558371 3421198  0.08869999999999999', '1880  50155783 5790678  0.11539999999999999', '1890  62979766 11547127  0.1833', '1900  76303387 11854000  0.15539999999999998', '1910  91972266 15968000  0.1707', '1920  105710620 25117000  0.2376', '1930  122775046 40156000  0.3271', '1940  131669275 67527000  0.5129', '1950  151325798 91462000  0.6043999999999999', '1960  179323175 127934000  0.7134', '1970  203302031 247653000  0.012199999999999999', '1980  226542199 1078488000  0.047599999999999996', '1990  248718301 2492830000  0.1002', '2000  281421906 4.5000000000  0.15990000000000001', '2010  308745538 13000000000  0.4211']\n"
          ]
        }
      ]
    },
    {
      "cell_type": "code",
      "metadata": {
        "id": "xEe8tTU-pp0w"
      },
      "source": [
        "import csv\n",
        "with open(\"census_cost.csv\",\"w\") as f:\n",
        "  for p in final_list:\n",
        "    f.write(p)"
      ],
      "execution_count": 138,
      "outputs": []
    },
    {
      "cell_type": "code",
      "metadata": {
        "id": "3E1av7EXuZH8"
      },
      "source": [
        "with open(\"census_cost.csv\",\"r\") as f:\n",
        "   read = csv.reader(f)\n",
        "   for values in read:\n",
        "      print(values)"
      ],
      "execution_count": 139,
      "outputs": []
    }
  ]
}