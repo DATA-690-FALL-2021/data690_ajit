{
  "nbformat": 4,
  "nbformat_minor": 0,
  "metadata": {
    "colab": {
      "name": "in_class_practice_02.ipynb",
      "provenance": [],
      "collapsed_sections": [],
      "authorship_tag": "ABX9TyPEtNOVixAQ+QaqSqzbiMDI",
      "include_colab_link": true
    },
    "kernelspec": {
      "name": "python3",
      "display_name": "Python 3"
    },
    "language_info": {
      "name": "python"
    }
  },
  "cells": [
    {
      "cell_type": "markdown",
      "metadata": {
        "id": "view-in-github",
        "colab_type": "text"
      },
      "source": [
        "<a href=\"https://colab.research.google.com/github/ajitjadhav10/data690_ajit/blob/main/Assignment04/in_class_practice_02.ipynb\" target=\"_parent\"><img src=\"https://colab.research.google.com/assets/colab-badge.svg\" alt=\"Open In Colab\"/></a>"
      ]
    },
    {
      "cell_type": "markdown",
      "metadata": {
        "id": "kFIPgx5ZNZj3"
      },
      "source": [
        "### Session 4 in class practice 2\n",
        "\n",
        "- Professor: Dr. Jay Wang\n",
        "- Student: Ajit Jadhav\n",
        "- Date: 09/23/2021\n"
      ]
    },
    {
      "cell_type": "code",
      "metadata": {
        "id": "2_kezOS0NUkt"
      },
      "source": [
        "import pandas as pd"
      ],
      "execution_count": 15,
      "outputs": []
    },
    {
      "cell_type": "code",
      "metadata": {
        "colab": {
          "base_uri": "https://localhost:8080/",
          "height": 142
        },
        "id": "NJc6r4_TNzY-",
        "outputId": "3de73d41-b407-4697-a5b0-159bebce7baa"
      },
      "source": [
        "df = pd.read_csv(\"/content/census_costs.txt\", sep=\"\\t\")\n",
        "df.head(3)"
      ],
      "execution_count": 17,
      "outputs": [
        {
          "output_type": "execute_result",
          "data": {
            "text/html": [
              "<div>\n",
              "<style scoped>\n",
              "    .dataframe tbody tr th:only-of-type {\n",
              "        vertical-align: middle;\n",
              "    }\n",
              "\n",
              "    .dataframe tbody tr th {\n",
              "        vertical-align: top;\n",
              "    }\n",
              "\n",
              "    .dataframe thead th {\n",
              "        text-align: right;\n",
              "    }\n",
              "</style>\n",
              "<table border=\"1\" class=\"dataframe\">\n",
              "  <thead>\n",
              "    <tr style=\"text-align: right;\">\n",
              "      <th></th>\n",
              "      <th>Census Year</th>\n",
              "      <th>Total Population</th>\n",
              "      <th>Census Cost</th>\n",
              "      <th>Average Cost Per Person</th>\n",
              "    </tr>\n",
              "  </thead>\n",
              "  <tbody>\n",
              "    <tr>\n",
              "      <th>0</th>\n",
              "      <td>1790</td>\n",
              "      <td>3,929,214</td>\n",
              "      <td>$44,377</td>\n",
              "      <td>1.13 cents</td>\n",
              "    </tr>\n",
              "    <tr>\n",
              "      <th>1</th>\n",
              "      <td>1800</td>\n",
              "      <td>5,308,483</td>\n",
              "      <td>$66,109</td>\n",
              "      <td>1.24 cents</td>\n",
              "    </tr>\n",
              "    <tr>\n",
              "      <th>2</th>\n",
              "      <td>1810</td>\n",
              "      <td>7,239,881</td>\n",
              "      <td>$178,445</td>\n",
              "      <td>2.46 cents</td>\n",
              "    </tr>\n",
              "  </tbody>\n",
              "</table>\n",
              "</div>"
            ],
            "text/plain": [
              "  Census Year Total Population Census Cost Average Cost Per Person\n",
              "0        1790        3,929,214     $44,377              1.13 cents\n",
              "1        1800        5,308,483     $66,109              1.24 cents\n",
              "2        1810        7,239,881    $178,445              2.46 cents"
            ]
          },
          "metadata": {},
          "execution_count": 17
        }
      ]
    },
    {
      "cell_type": "code",
      "metadata": {
        "colab": {
          "base_uri": "https://localhost:8080/"
        },
        "id": "WOXwEydZODXt",
        "outputId": "a40dbd9f-d168-416d-c62d-0505389aa949"
      },
      "source": [
        "df.columns"
      ],
      "execution_count": 13,
      "outputs": [
        {
          "output_type": "execute_result",
          "data": {
            "text/plain": [
              "Index(['Census Year', 'Total Population', 'Census Cost',\n",
              "       'Average Cost Per Person'],\n",
              "      dtype='object')"
            ]
          },
          "metadata": {},
          "execution_count": 13
        }
      ]
    },
    {
      "cell_type": "code",
      "metadata": {
        "colab": {
          "base_uri": "https://localhost:8080/",
          "height": 142
        },
        "id": "mKuoubmvPZxp",
        "outputId": "b25f9669-4bad-4bcd-fe0c-e02c68a1ea99"
      },
      "source": [
        "df.tail(3)"
      ],
      "execution_count": 19,
      "outputs": [
        {
          "output_type": "execute_result",
          "data": {
            "text/html": [
              "<div>\n",
              "<style scoped>\n",
              "    .dataframe tbody tr th:only-of-type {\n",
              "        vertical-align: middle;\n",
              "    }\n",
              "\n",
              "    .dataframe tbody tr th {\n",
              "        vertical-align: top;\n",
              "    }\n",
              "\n",
              "    .dataframe thead th {\n",
              "        text-align: right;\n",
              "    }\n",
              "</style>\n",
              "<table border=\"1\" class=\"dataframe\">\n",
              "  <thead>\n",
              "    <tr style=\"text-align: right;\">\n",
              "      <th></th>\n",
              "      <th>Census Year</th>\n",
              "      <th>Total Population</th>\n",
              "      <th>Census Cost</th>\n",
              "      <th>Average Cost Per Person</th>\n",
              "    </tr>\n",
              "  </thead>\n",
              "  <tbody>\n",
              "    <tr>\n",
              "      <th>20</th>\n",
              "      <td>1990</td>\n",
              "      <td>248,718,301</td>\n",
              "      <td>$2,492,830,000</td>\n",
              "      <td>$10.02</td>\n",
              "    </tr>\n",
              "    <tr>\n",
              "      <th>21</th>\n",
              "      <td>2000</td>\n",
              "      <td>281,421,906</td>\n",
              "      <td>$4.5 Billion</td>\n",
              "      <td>$15.99</td>\n",
              "    </tr>\n",
              "    <tr>\n",
              "      <th>22</th>\n",
              "      <td>2010*</td>\n",
              "      <td>308,745,538</td>\n",
              "      <td>$13 Billion</td>\n",
              "      <td>$42.11</td>\n",
              "    </tr>\n",
              "  </tbody>\n",
              "</table>\n",
              "</div>"
            ],
            "text/plain": [
              "   Census Year Total Population     Census Cost Average Cost Per Person\n",
              "20        1990      248,718,301  $2,492,830,000                  $10.02\n",
              "21        2000      281,421,906    $4.5 Billion                  $15.99\n",
              "22       2010*      308,745,538     $13 Billion                  $42.11"
            ]
          },
          "metadata": {},
          "execution_count": 19
        }
      ]
    },
    {
      "cell_type": "code",
      "metadata": {
        "colab": {
          "base_uri": "https://localhost:8080/",
          "height": 142
        },
        "id": "h_vMtyiaP2wz",
        "outputId": "15e4d22a-1a35-4f32-962a-49f4f43624e6"
      },
      "source": [
        "df.sample(3)"
      ],
      "execution_count": 22,
      "outputs": [
        {
          "output_type": "execute_result",
          "data": {
            "text/html": [
              "<div>\n",
              "<style scoped>\n",
              "    .dataframe tbody tr th:only-of-type {\n",
              "        vertical-align: middle;\n",
              "    }\n",
              "\n",
              "    .dataframe tbody tr th {\n",
              "        vertical-align: top;\n",
              "    }\n",
              "\n",
              "    .dataframe thead th {\n",
              "        text-align: right;\n",
              "    }\n",
              "</style>\n",
              "<table border=\"1\" class=\"dataframe\">\n",
              "  <thead>\n",
              "    <tr style=\"text-align: right;\">\n",
              "      <th></th>\n",
              "      <th>Census Year</th>\n",
              "      <th>Total Population</th>\n",
              "      <th>Census Cost</th>\n",
              "      <th>Average Cost Per Person</th>\n",
              "    </tr>\n",
              "  </thead>\n",
              "  <tbody>\n",
              "    <tr>\n",
              "      <th>3</th>\n",
              "      <td>1820</td>\n",
              "      <td>9,633,822</td>\n",
              "      <td>$208,526</td>\n",
              "      <td>2.16 cents</td>\n",
              "    </tr>\n",
              "    <tr>\n",
              "      <th>11</th>\n",
              "      <td>1900</td>\n",
              "      <td>76,303,387</td>\n",
              "      <td>$11,854,000</td>\n",
              "      <td>15.54 cents</td>\n",
              "    </tr>\n",
              "    <tr>\n",
              "      <th>0</th>\n",
              "      <td>1790</td>\n",
              "      <td>3,929,214</td>\n",
              "      <td>$44,377</td>\n",
              "      <td>1.13 cents</td>\n",
              "    </tr>\n",
              "  </tbody>\n",
              "</table>\n",
              "</div>"
            ],
            "text/plain": [
              "   Census Year Total Population  Census Cost Average Cost Per Person\n",
              "3         1820        9,633,822     $208,526              2.16 cents\n",
              "11        1900       76,303,387  $11,854,000             15.54 cents\n",
              "0         1790        3,929,214      $44,377              1.13 cents"
            ]
          },
          "metadata": {},
          "execution_count": 22
        }
      ]
    },
    {
      "cell_type": "code",
      "metadata": {
        "colab": {
          "base_uri": "https://localhost:8080/"
        },
        "id": "h0xLm5ywP8F-",
        "outputId": "c6331720-62c0-44fe-92c8-516d373d8f09"
      },
      "source": [
        "df.info()"
      ],
      "execution_count": 23,
      "outputs": [
        {
          "output_type": "stream",
          "name": "stdout",
          "text": [
            "<class 'pandas.core.frame.DataFrame'>\n",
            "RangeIndex: 23 entries, 0 to 22\n",
            "Data columns (total 4 columns):\n",
            " #   Column                   Non-Null Count  Dtype \n",
            "---  ------                   --------------  ----- \n",
            " 0   Census Year              23 non-null     object\n",
            " 1   Total Population         23 non-null     object\n",
            " 2   Census Cost              23 non-null     object\n",
            " 3   Average Cost Per Person  23 non-null     object\n",
            "dtypes: object(4)\n",
            "memory usage: 864.0+ bytes\n"
          ]
        }
      ]
    },
    {
      "cell_type": "code",
      "metadata": {
        "colab": {
          "base_uri": "https://localhost:8080/",
          "height": 762
        },
        "id": "sWvZOxDcQOmL",
        "outputId": "955bf9f5-d3e4-4739-9455-f885450c0f2c"
      },
      "source": [
        "df"
      ],
      "execution_count": 24,
      "outputs": [
        {
          "output_type": "execute_result",
          "data": {
            "text/html": [
              "<div>\n",
              "<style scoped>\n",
              "    .dataframe tbody tr th:only-of-type {\n",
              "        vertical-align: middle;\n",
              "    }\n",
              "\n",
              "    .dataframe tbody tr th {\n",
              "        vertical-align: top;\n",
              "    }\n",
              "\n",
              "    .dataframe thead th {\n",
              "        text-align: right;\n",
              "    }\n",
              "</style>\n",
              "<table border=\"1\" class=\"dataframe\">\n",
              "  <thead>\n",
              "    <tr style=\"text-align: right;\">\n",
              "      <th></th>\n",
              "      <th>Census Year</th>\n",
              "      <th>Total Population</th>\n",
              "      <th>Census Cost</th>\n",
              "      <th>Average Cost Per Person</th>\n",
              "    </tr>\n",
              "  </thead>\n",
              "  <tbody>\n",
              "    <tr>\n",
              "      <th>0</th>\n",
              "      <td>1790</td>\n",
              "      <td>3,929,214</td>\n",
              "      <td>$44,377</td>\n",
              "      <td>1.13 cents</td>\n",
              "    </tr>\n",
              "    <tr>\n",
              "      <th>1</th>\n",
              "      <td>1800</td>\n",
              "      <td>5,308,483</td>\n",
              "      <td>$66,109</td>\n",
              "      <td>1.24 cents</td>\n",
              "    </tr>\n",
              "    <tr>\n",
              "      <th>2</th>\n",
              "      <td>1810</td>\n",
              "      <td>7,239,881</td>\n",
              "      <td>$178,445</td>\n",
              "      <td>2.46 cents</td>\n",
              "    </tr>\n",
              "    <tr>\n",
              "      <th>3</th>\n",
              "      <td>1820</td>\n",
              "      <td>9,633,822</td>\n",
              "      <td>$208,526</td>\n",
              "      <td>2.16 cents</td>\n",
              "    </tr>\n",
              "    <tr>\n",
              "      <th>4</th>\n",
              "      <td>1830</td>\n",
              "      <td>12,866,020</td>\n",
              "      <td>$378,545</td>\n",
              "      <td>2.94 cents</td>\n",
              "    </tr>\n",
              "    <tr>\n",
              "      <th>5</th>\n",
              "      <td>1840</td>\n",
              "      <td>17,069,458</td>\n",
              "      <td>$833,371</td>\n",
              "      <td>4.88 cents</td>\n",
              "    </tr>\n",
              "    <tr>\n",
              "      <th>6</th>\n",
              "      <td>1850</td>\n",
              "      <td>23,191,876</td>\n",
              "      <td>$1,423,351</td>\n",
              "      <td>6.14 cents</td>\n",
              "    </tr>\n",
              "    <tr>\n",
              "      <th>7</th>\n",
              "      <td>1860</td>\n",
              "      <td>31,443,321</td>\n",
              "      <td>$1,969,377</td>\n",
              "      <td>6.26 cents</td>\n",
              "    </tr>\n",
              "    <tr>\n",
              "      <th>8</th>\n",
              "      <td>1870</td>\n",
              "      <td>38,558,371</td>\n",
              "      <td>$3,421,198</td>\n",
              "      <td>8.87 cents</td>\n",
              "    </tr>\n",
              "    <tr>\n",
              "      <th>9</th>\n",
              "      <td>1880</td>\n",
              "      <td>50,155,783</td>\n",
              "      <td>$5,790,678</td>\n",
              "      <td>11.54 cents</td>\n",
              "    </tr>\n",
              "    <tr>\n",
              "      <th>10</th>\n",
              "      <td>1890</td>\n",
              "      <td>62,979,766</td>\n",
              "      <td>$11,547,127</td>\n",
              "      <td>18.33 cents</td>\n",
              "    </tr>\n",
              "    <tr>\n",
              "      <th>11</th>\n",
              "      <td>1900</td>\n",
              "      <td>76,303,387</td>\n",
              "      <td>$11,854,000</td>\n",
              "      <td>15.54 cents</td>\n",
              "    </tr>\n",
              "    <tr>\n",
              "      <th>12</th>\n",
              "      <td>1910</td>\n",
              "      <td>91,972,266</td>\n",
              "      <td>$15,968,000</td>\n",
              "      <td>17.07 cents</td>\n",
              "    </tr>\n",
              "    <tr>\n",
              "      <th>13</th>\n",
              "      <td>1920</td>\n",
              "      <td>105,710,620</td>\n",
              "      <td>$25,117,000</td>\n",
              "      <td>23.76 cents</td>\n",
              "    </tr>\n",
              "    <tr>\n",
              "      <th>14</th>\n",
              "      <td>1930</td>\n",
              "      <td>122,775,046</td>\n",
              "      <td>$40,156,000</td>\n",
              "      <td>32.71 cents</td>\n",
              "    </tr>\n",
              "    <tr>\n",
              "      <th>15</th>\n",
              "      <td>1940</td>\n",
              "      <td>131,669,275</td>\n",
              "      <td>$67,527,000</td>\n",
              "      <td>51.29 cents</td>\n",
              "    </tr>\n",
              "    <tr>\n",
              "      <th>16</th>\n",
              "      <td>1950</td>\n",
              "      <td>151,325,798</td>\n",
              "      <td>$91,462,000</td>\n",
              "      <td>60.44 cents</td>\n",
              "    </tr>\n",
              "    <tr>\n",
              "      <th>17</th>\n",
              "      <td>1960</td>\n",
              "      <td>179,323,175</td>\n",
              "      <td>$127,934,000</td>\n",
              "      <td>71.34 cents</td>\n",
              "    </tr>\n",
              "    <tr>\n",
              "      <th>18</th>\n",
              "      <td>1970</td>\n",
              "      <td>203,302,031</td>\n",
              "      <td>$247,653,000</td>\n",
              "      <td>$1.22</td>\n",
              "    </tr>\n",
              "    <tr>\n",
              "      <th>19</th>\n",
              "      <td>1980</td>\n",
              "      <td>226,542,199</td>\n",
              "      <td>$1,078,488,000</td>\n",
              "      <td>$4.76</td>\n",
              "    </tr>\n",
              "    <tr>\n",
              "      <th>20</th>\n",
              "      <td>1990</td>\n",
              "      <td>248,718,301</td>\n",
              "      <td>$2,492,830,000</td>\n",
              "      <td>$10.02</td>\n",
              "    </tr>\n",
              "    <tr>\n",
              "      <th>21</th>\n",
              "      <td>2000</td>\n",
              "      <td>281,421,906</td>\n",
              "      <td>$4.5 Billion</td>\n",
              "      <td>$15.99</td>\n",
              "    </tr>\n",
              "    <tr>\n",
              "      <th>22</th>\n",
              "      <td>2010*</td>\n",
              "      <td>308,745,538</td>\n",
              "      <td>$13 Billion</td>\n",
              "      <td>$42.11</td>\n",
              "    </tr>\n",
              "  </tbody>\n",
              "</table>\n",
              "</div>"
            ],
            "text/plain": [
              "   Census Year Total Population     Census Cost Average Cost Per Person\n",
              "0         1790        3,929,214         $44,377              1.13 cents\n",
              "1         1800        5,308,483         $66,109              1.24 cents\n",
              "2         1810        7,239,881        $178,445              2.46 cents\n",
              "3         1820        9,633,822        $208,526              2.16 cents\n",
              "4         1830       12,866,020        $378,545              2.94 cents\n",
              "5         1840       17,069,458        $833,371              4.88 cents\n",
              "6         1850       23,191,876      $1,423,351              6.14 cents\n",
              "7         1860       31,443,321      $1,969,377              6.26 cents\n",
              "8         1870       38,558,371      $3,421,198              8.87 cents\n",
              "9         1880       50,155,783      $5,790,678             11.54 cents\n",
              "10        1890       62,979,766     $11,547,127             18.33 cents\n",
              "11        1900       76,303,387     $11,854,000             15.54 cents\n",
              "12        1910       91,972,266     $15,968,000             17.07 cents\n",
              "13        1920      105,710,620     $25,117,000             23.76 cents\n",
              "14        1930      122,775,046     $40,156,000             32.71 cents\n",
              "15        1940      131,669,275     $67,527,000             51.29 cents\n",
              "16        1950      151,325,798     $91,462,000             60.44 cents\n",
              "17        1960      179,323,175    $127,934,000             71.34 cents\n",
              "18        1970      203,302,031    $247,653,000                   $1.22\n",
              "19        1980      226,542,199  $1,078,488,000                   $4.76\n",
              "20        1990      248,718,301  $2,492,830,000                  $10.02\n",
              "21        2000      281,421,906    $4.5 Billion                  $15.99\n",
              "22       2010*      308,745,538     $13 Billion                  $42.11"
            ]
          },
          "metadata": {},
          "execution_count": 24
        }
      ]
    },
    {
      "cell_type": "code",
      "metadata": {
        "colab": {
          "base_uri": "https://localhost:8080/",
          "height": 173
        },
        "id": "AtZfXznsQelt",
        "outputId": "b2298c33-66c6-4a29-bdd2-48753a1851a4"
      },
      "source": [
        "df.describe()"
      ],
      "execution_count": 25,
      "outputs": [
        {
          "output_type": "execute_result",
          "data": {
            "text/html": [
              "<div>\n",
              "<style scoped>\n",
              "    .dataframe tbody tr th:only-of-type {\n",
              "        vertical-align: middle;\n",
              "    }\n",
              "\n",
              "    .dataframe tbody tr th {\n",
              "        vertical-align: top;\n",
              "    }\n",
              "\n",
              "    .dataframe thead th {\n",
              "        text-align: right;\n",
              "    }\n",
              "</style>\n",
              "<table border=\"1\" class=\"dataframe\">\n",
              "  <thead>\n",
              "    <tr style=\"text-align: right;\">\n",
              "      <th></th>\n",
              "      <th>Census Year</th>\n",
              "      <th>Total Population</th>\n",
              "      <th>Census Cost</th>\n",
              "      <th>Average Cost Per Person</th>\n",
              "    </tr>\n",
              "  </thead>\n",
              "  <tbody>\n",
              "    <tr>\n",
              "      <th>count</th>\n",
              "      <td>23</td>\n",
              "      <td>23</td>\n",
              "      <td>23</td>\n",
              "      <td>23</td>\n",
              "    </tr>\n",
              "    <tr>\n",
              "      <th>unique</th>\n",
              "      <td>23</td>\n",
              "      <td>23</td>\n",
              "      <td>23</td>\n",
              "      <td>23</td>\n",
              "    </tr>\n",
              "    <tr>\n",
              "      <th>top</th>\n",
              "      <td>1970</td>\n",
              "      <td>9,633,822</td>\n",
              "      <td>$67,527,000</td>\n",
              "      <td>2.46 cents</td>\n",
              "    </tr>\n",
              "    <tr>\n",
              "      <th>freq</th>\n",
              "      <td>1</td>\n",
              "      <td>1</td>\n",
              "      <td>1</td>\n",
              "      <td>1</td>\n",
              "    </tr>\n",
              "  </tbody>\n",
              "</table>\n",
              "</div>"
            ],
            "text/plain": [
              "       Census Year Total Population  Census Cost Average Cost Per Person\n",
              "count           23               23           23                      23\n",
              "unique          23               23           23                      23\n",
              "top           1970        9,633,822  $67,527,000              2.46 cents\n",
              "freq             1                1            1                       1"
            ]
          },
          "metadata": {},
          "execution_count": 25
        }
      ]
    },
    {
      "cell_type": "code",
      "metadata": {
        "colab": {
          "base_uri": "https://localhost:8080/"
        },
        "id": "h24WHSjMQ5J-",
        "outputId": "fd5b5af8-e8b8-41c3-968f-5eb6de3b18ca"
      },
      "source": [
        "x = \"179,323,175\"\n",
        "print(type(x))"
      ],
      "execution_count": 28,
      "outputs": [
        {
          "output_type": "stream",
          "name": "stdout",
          "text": [
            "<class 'str'>\n"
          ]
        }
      ]
    },
    {
      "cell_type": "code",
      "metadata": {
        "colab": {
          "base_uri": "https://localhost:8080/"
        },
        "id": "q6b_uNZnRVyn",
        "outputId": "d1c7bbad-db61-4792-e8ed-f61ee8da2041"
      },
      "source": [
        "y=\"123,456,789\"\n",
        "\n",
        "z=y.replace(\",\",\"\")\n",
        "\n",
        "print(z)"
      ],
      "execution_count": 31,
      "outputs": [
        {
          "output_type": "stream",
          "name": "stdout",
          "text": [
            "123456789\n"
          ]
        }
      ]
    },
    {
      "cell_type": "code",
      "metadata": {
        "colab": {
          "base_uri": "https://localhost:8080/"
        },
        "id": "aBqMK6R4R2Ou",
        "outputId": "fdd88eb1-535e-45b6-d7b1-6b43bf143acd"
      },
      "source": [
        "type(z)"
      ],
      "execution_count": 32,
      "outputs": [
        {
          "output_type": "execute_result",
          "data": {
            "text/plain": [
              "str"
            ]
          },
          "metadata": {},
          "execution_count": 32
        }
      ]
    },
    {
      "cell_type": "code",
      "metadata": {
        "colab": {
          "base_uri": "https://localhost:8080/"
        },
        "id": "I87spNzeR_e9",
        "outputId": "008b0244-2401-45f5-c997-32b92dbb5665"
      },
      "source": [
        "type(int(z))"
      ],
      "execution_count": 33,
      "outputs": [
        {
          "output_type": "execute_result",
          "data": {
            "text/plain": [
              "int"
            ]
          },
          "metadata": {},
          "execution_count": 33
        }
      ]
    },
    {
      "cell_type": "code",
      "metadata": {
        "colab": {
          "base_uri": "https://localhost:8080/",
          "height": 762
        },
        "id": "CW1Hno1MSCHK",
        "outputId": "22ee8028-31eb-4d7f-cf07-72b2cf503776"
      },
      "source": [
        "df[[\"Census Year\",\"Total Population\"]]"
      ],
      "execution_count": 35,
      "outputs": [
        {
          "output_type": "execute_result",
          "data": {
            "text/html": [
              "<div>\n",
              "<style scoped>\n",
              "    .dataframe tbody tr th:only-of-type {\n",
              "        vertical-align: middle;\n",
              "    }\n",
              "\n",
              "    .dataframe tbody tr th {\n",
              "        vertical-align: top;\n",
              "    }\n",
              "\n",
              "    .dataframe thead th {\n",
              "        text-align: right;\n",
              "    }\n",
              "</style>\n",
              "<table border=\"1\" class=\"dataframe\">\n",
              "  <thead>\n",
              "    <tr style=\"text-align: right;\">\n",
              "      <th></th>\n",
              "      <th>Census Year</th>\n",
              "      <th>Total Population</th>\n",
              "    </tr>\n",
              "  </thead>\n",
              "  <tbody>\n",
              "    <tr>\n",
              "      <th>0</th>\n",
              "      <td>1790</td>\n",
              "      <td>3,929,214</td>\n",
              "    </tr>\n",
              "    <tr>\n",
              "      <th>1</th>\n",
              "      <td>1800</td>\n",
              "      <td>5,308,483</td>\n",
              "    </tr>\n",
              "    <tr>\n",
              "      <th>2</th>\n",
              "      <td>1810</td>\n",
              "      <td>7,239,881</td>\n",
              "    </tr>\n",
              "    <tr>\n",
              "      <th>3</th>\n",
              "      <td>1820</td>\n",
              "      <td>9,633,822</td>\n",
              "    </tr>\n",
              "    <tr>\n",
              "      <th>4</th>\n",
              "      <td>1830</td>\n",
              "      <td>12,866,020</td>\n",
              "    </tr>\n",
              "    <tr>\n",
              "      <th>5</th>\n",
              "      <td>1840</td>\n",
              "      <td>17,069,458</td>\n",
              "    </tr>\n",
              "    <tr>\n",
              "      <th>6</th>\n",
              "      <td>1850</td>\n",
              "      <td>23,191,876</td>\n",
              "    </tr>\n",
              "    <tr>\n",
              "      <th>7</th>\n",
              "      <td>1860</td>\n",
              "      <td>31,443,321</td>\n",
              "    </tr>\n",
              "    <tr>\n",
              "      <th>8</th>\n",
              "      <td>1870</td>\n",
              "      <td>38,558,371</td>\n",
              "    </tr>\n",
              "    <tr>\n",
              "      <th>9</th>\n",
              "      <td>1880</td>\n",
              "      <td>50,155,783</td>\n",
              "    </tr>\n",
              "    <tr>\n",
              "      <th>10</th>\n",
              "      <td>1890</td>\n",
              "      <td>62,979,766</td>\n",
              "    </tr>\n",
              "    <tr>\n",
              "      <th>11</th>\n",
              "      <td>1900</td>\n",
              "      <td>76,303,387</td>\n",
              "    </tr>\n",
              "    <tr>\n",
              "      <th>12</th>\n",
              "      <td>1910</td>\n",
              "      <td>91,972,266</td>\n",
              "    </tr>\n",
              "    <tr>\n",
              "      <th>13</th>\n",
              "      <td>1920</td>\n",
              "      <td>105,710,620</td>\n",
              "    </tr>\n",
              "    <tr>\n",
              "      <th>14</th>\n",
              "      <td>1930</td>\n",
              "      <td>122,775,046</td>\n",
              "    </tr>\n",
              "    <tr>\n",
              "      <th>15</th>\n",
              "      <td>1940</td>\n",
              "      <td>131,669,275</td>\n",
              "    </tr>\n",
              "    <tr>\n",
              "      <th>16</th>\n",
              "      <td>1950</td>\n",
              "      <td>151,325,798</td>\n",
              "    </tr>\n",
              "    <tr>\n",
              "      <th>17</th>\n",
              "      <td>1960</td>\n",
              "      <td>179,323,175</td>\n",
              "    </tr>\n",
              "    <tr>\n",
              "      <th>18</th>\n",
              "      <td>1970</td>\n",
              "      <td>203,302,031</td>\n",
              "    </tr>\n",
              "    <tr>\n",
              "      <th>19</th>\n",
              "      <td>1980</td>\n",
              "      <td>226,542,199</td>\n",
              "    </tr>\n",
              "    <tr>\n",
              "      <th>20</th>\n",
              "      <td>1990</td>\n",
              "      <td>248,718,301</td>\n",
              "    </tr>\n",
              "    <tr>\n",
              "      <th>21</th>\n",
              "      <td>2000</td>\n",
              "      <td>281,421,906</td>\n",
              "    </tr>\n",
              "    <tr>\n",
              "      <th>22</th>\n",
              "      <td>2010*</td>\n",
              "      <td>308,745,538</td>\n",
              "    </tr>\n",
              "  </tbody>\n",
              "</table>\n",
              "</div>"
            ],
            "text/plain": [
              "   Census Year Total Population\n",
              "0         1790        3,929,214\n",
              "1         1800        5,308,483\n",
              "2         1810        7,239,881\n",
              "3         1820        9,633,822\n",
              "4         1830       12,866,020\n",
              "5         1840       17,069,458\n",
              "6         1850       23,191,876\n",
              "7         1860       31,443,321\n",
              "8         1870       38,558,371\n",
              "9         1880       50,155,783\n",
              "10        1890       62,979,766\n",
              "11        1900       76,303,387\n",
              "12        1910       91,972,266\n",
              "13        1920      105,710,620\n",
              "14        1930      122,775,046\n",
              "15        1940      131,669,275\n",
              "16        1950      151,325,798\n",
              "17        1960      179,323,175\n",
              "18        1970      203,302,031\n",
              "19        1980      226,542,199\n",
              "20        1990      248,718,301\n",
              "21        2000      281,421,906\n",
              "22       2010*      308,745,538"
            ]
          },
          "metadata": {},
          "execution_count": 35
        }
      ]
    },
    {
      "cell_type": "code",
      "metadata": {
        "colab": {
          "base_uri": "https://localhost:8080/"
        },
        "id": "32M8o0iWSElj",
        "outputId": "7bd994ea-96a0-41c9-8d01-4f07151de362"
      },
      "source": [
        "#There is difference between series and data frame.\n",
        "# df[\"Total Population\"] returns a series which has a tolist() function\n",
        "# df[[\"Total Population\"]] returns a data frame which has no tolist() function\n",
        "\n",
        "pop_list=df[\"Total Population\"].tolist()\n",
        "pop_list"
      ],
      "execution_count": 41,
      "outputs": [
        {
          "output_type": "execute_result",
          "data": {
            "text/plain": [
              "['3,929,214',\n",
              " '5,308,483',\n",
              " '7,239,881',\n",
              " '9,633,822',\n",
              " '12,866,020',\n",
              " '17,069,458',\n",
              " '23,191,876',\n",
              " '31,443,321',\n",
              " '38,558,371',\n",
              " '50,155,783',\n",
              " '62,979,766',\n",
              " '76,303,387',\n",
              " '91,972,266',\n",
              " '105,710,620',\n",
              " '122,775,046',\n",
              " '131,669,275',\n",
              " '151,325,798',\n",
              " '179,323,175',\n",
              " '203,302,031',\n",
              " '226,542,199',\n",
              " '248,718,301',\n",
              " '281,421,906',\n",
              " '308,745,538']"
            ]
          },
          "metadata": {},
          "execution_count": 41
        }
      ]
    },
    {
      "cell_type": "code",
      "metadata": {
        "colab": {
          "base_uri": "https://localhost:8080/"
        },
        "id": "ja-X9wf9Swbx",
        "outputId": "368559ff-22bd-4558-f16c-12a20ad87ef2"
      },
      "source": [
        "pop_list2=[int(pop.replace(\",\",\"\")) for pop in pop_list]\n",
        "print(pop_list2)"
      ],
      "execution_count": 43,
      "outputs": [
        {
          "output_type": "stream",
          "name": "stdout",
          "text": [
            "[3929214, 5308483, 7239881, 9633822, 12866020, 17069458, 23191876, 31443321, 38558371, 50155783, 62979766, 76303387, 91972266, 105710620, 122775046, 131669275, 151325798, 179323175, 203302031, 226542199, 248718301, 281421906, 308745538]\n"
          ]
        }
      ]
    },
    {
      "cell_type": "code",
      "metadata": {
        "id": "FPSzdK2sT2b-"
      },
      "source": [
        "#convert a string of number separated by commas into a integer\n",
        "\n",
        "def cleanse_pop(a_string):\n",
        "      return int(a_string.replace(\",\",\"\"))"
      ],
      "execution_count": 49,
      "outputs": []
    },
    {
      "cell_type": "code",
      "metadata": {
        "colab": {
          "base_uri": "https://localhost:8080/"
        },
        "id": "FkZgW2qiUkDJ",
        "outputId": "6398658d-f4ec-415f-a24c-a84b2cab3c3f"
      },
      "source": [
        "x=cleanse_pop(\"123,459\")\n",
        "\n",
        "print(x)"
      ],
      "execution_count": 50,
      "outputs": [
        {
          "output_type": "stream",
          "name": "stdout",
          "text": [
            "123459\n"
          ]
        }
      ]
    },
    {
      "cell_type": "code",
      "metadata": {
        "colab": {
          "base_uri": "https://localhost:8080/",
          "height": 204
        },
        "id": "YXItutLKUnPM",
        "outputId": "832563fe-841e-408c-a2a5-399125bee4d0"
      },
      "source": [
        "df[\"tot_pop\"] = df[\"Total Population\"].apply(cleanse_pop)\n",
        "\n",
        "df.head()"
      ],
      "execution_count": 52,
      "outputs": [
        {
          "output_type": "execute_result",
          "data": {
            "text/html": [
              "<div>\n",
              "<style scoped>\n",
              "    .dataframe tbody tr th:only-of-type {\n",
              "        vertical-align: middle;\n",
              "    }\n",
              "\n",
              "    .dataframe tbody tr th {\n",
              "        vertical-align: top;\n",
              "    }\n",
              "\n",
              "    .dataframe thead th {\n",
              "        text-align: right;\n",
              "    }\n",
              "</style>\n",
              "<table border=\"1\" class=\"dataframe\">\n",
              "  <thead>\n",
              "    <tr style=\"text-align: right;\">\n",
              "      <th></th>\n",
              "      <th>Census Year</th>\n",
              "      <th>Total Population</th>\n",
              "      <th>Census Cost</th>\n",
              "      <th>Average Cost Per Person</th>\n",
              "      <th>tot_pop</th>\n",
              "    </tr>\n",
              "  </thead>\n",
              "  <tbody>\n",
              "    <tr>\n",
              "      <th>0</th>\n",
              "      <td>1790</td>\n",
              "      <td>3,929,214</td>\n",
              "      <td>$44,377</td>\n",
              "      <td>1.13 cents</td>\n",
              "      <td>3929214</td>\n",
              "    </tr>\n",
              "    <tr>\n",
              "      <th>1</th>\n",
              "      <td>1800</td>\n",
              "      <td>5,308,483</td>\n",
              "      <td>$66,109</td>\n",
              "      <td>1.24 cents</td>\n",
              "      <td>5308483</td>\n",
              "    </tr>\n",
              "    <tr>\n",
              "      <th>2</th>\n",
              "      <td>1810</td>\n",
              "      <td>7,239,881</td>\n",
              "      <td>$178,445</td>\n",
              "      <td>2.46 cents</td>\n",
              "      <td>7239881</td>\n",
              "    </tr>\n",
              "    <tr>\n",
              "      <th>3</th>\n",
              "      <td>1820</td>\n",
              "      <td>9,633,822</td>\n",
              "      <td>$208,526</td>\n",
              "      <td>2.16 cents</td>\n",
              "      <td>9633822</td>\n",
              "    </tr>\n",
              "    <tr>\n",
              "      <th>4</th>\n",
              "      <td>1830</td>\n",
              "      <td>12,866,020</td>\n",
              "      <td>$378,545</td>\n",
              "      <td>2.94 cents</td>\n",
              "      <td>12866020</td>\n",
              "    </tr>\n",
              "  </tbody>\n",
              "</table>\n",
              "</div>"
            ],
            "text/plain": [
              "  Census Year Total Population Census Cost Average Cost Per Person   tot_pop\n",
              "0        1790        3,929,214     $44,377              1.13 cents   3929214\n",
              "1        1800        5,308,483     $66,109              1.24 cents   5308483\n",
              "2        1810        7,239,881    $178,445              2.46 cents   7239881\n",
              "3        1820        9,633,822    $208,526              2.16 cents   9633822\n",
              "4        1830       12,866,020    $378,545              2.94 cents  12866020"
            ]
          },
          "metadata": {},
          "execution_count": 52
        }
      ]
    },
    {
      "cell_type": "code",
      "metadata": {
        "colab": {
          "base_uri": "https://localhost:8080/"
        },
        "id": "QAq6nHBhVqaY",
        "outputId": "9fb89eee-64a9-49fb-fa5c-f7e11a966eb3"
      },
      "source": [
        "df.info()"
      ],
      "execution_count": 53,
      "outputs": [
        {
          "output_type": "stream",
          "name": "stdout",
          "text": [
            "<class 'pandas.core.frame.DataFrame'>\n",
            "RangeIndex: 23 entries, 0 to 22\n",
            "Data columns (total 5 columns):\n",
            " #   Column                   Non-Null Count  Dtype \n",
            "---  ------                   --------------  ----- \n",
            " 0   Census Year              23 non-null     object\n",
            " 1   Total Population         23 non-null     object\n",
            " 2   Census Cost              23 non-null     object\n",
            " 3   Average Cost Per Person  23 non-null     object\n",
            " 4   tot_pop                  23 non-null     int64 \n",
            "dtypes: int64(1), object(4)\n",
            "memory usage: 1.0+ KB\n"
          ]
        }
      ]
    },
    {
      "cell_type": "code",
      "metadata": {
        "colab": {
          "base_uri": "https://localhost:8080/",
          "height": 297
        },
        "id": "JBno9keuWGbp",
        "outputId": "0903c4cc-7cd0-4c35-e377-c5e5bd905b4c"
      },
      "source": [
        "df.describe()"
      ],
      "execution_count": 54,
      "outputs": [
        {
          "output_type": "execute_result",
          "data": {
            "text/html": [
              "<div>\n",
              "<style scoped>\n",
              "    .dataframe tbody tr th:only-of-type {\n",
              "        vertical-align: middle;\n",
              "    }\n",
              "\n",
              "    .dataframe tbody tr th {\n",
              "        vertical-align: top;\n",
              "    }\n",
              "\n",
              "    .dataframe thead th {\n",
              "        text-align: right;\n",
              "    }\n",
              "</style>\n",
              "<table border=\"1\" class=\"dataframe\">\n",
              "  <thead>\n",
              "    <tr style=\"text-align: right;\">\n",
              "      <th></th>\n",
              "      <th>tot_pop</th>\n",
              "    </tr>\n",
              "  </thead>\n",
              "  <tbody>\n",
              "    <tr>\n",
              "      <th>count</th>\n",
              "      <td>2.300000e+01</td>\n",
              "    </tr>\n",
              "    <tr>\n",
              "      <th>mean</th>\n",
              "      <td>1.039211e+08</td>\n",
              "    </tr>\n",
              "    <tr>\n",
              "      <th>std</th>\n",
              "      <td>9.622629e+07</td>\n",
              "    </tr>\n",
              "    <tr>\n",
              "      <th>min</th>\n",
              "      <td>3.929214e+06</td>\n",
              "    </tr>\n",
              "    <tr>\n",
              "      <th>25%</th>\n",
              "      <td>2.013067e+07</td>\n",
              "    </tr>\n",
              "    <tr>\n",
              "      <th>50%</th>\n",
              "      <td>7.630339e+07</td>\n",
              "    </tr>\n",
              "    <tr>\n",
              "      <th>75%</th>\n",
              "      <td>1.653245e+08</td>\n",
              "    </tr>\n",
              "    <tr>\n",
              "      <th>max</th>\n",
              "      <td>3.087455e+08</td>\n",
              "    </tr>\n",
              "  </tbody>\n",
              "</table>\n",
              "</div>"
            ],
            "text/plain": [
              "            tot_pop\n",
              "count  2.300000e+01\n",
              "mean   1.039211e+08\n",
              "std    9.622629e+07\n",
              "min    3.929214e+06\n",
              "25%    2.013067e+07\n",
              "50%    7.630339e+07\n",
              "75%    1.653245e+08\n",
              "max    3.087455e+08"
            ]
          },
          "metadata": {},
          "execution_count": 54
        }
      ]
    },
    {
      "cell_type": "code",
      "metadata": {
        "colab": {
          "base_uri": "https://localhost:8080/",
          "height": 390
        },
        "id": "7umuq1hUWK0a",
        "outputId": "31701350-55a3-4f78-c981-dafe5174a887"
      },
      "source": [
        "df.describe(include=\"all\")"
      ],
      "execution_count": 55,
      "outputs": [
        {
          "output_type": "execute_result",
          "data": {
            "text/html": [
              "<div>\n",
              "<style scoped>\n",
              "    .dataframe tbody tr th:only-of-type {\n",
              "        vertical-align: middle;\n",
              "    }\n",
              "\n",
              "    .dataframe tbody tr th {\n",
              "        vertical-align: top;\n",
              "    }\n",
              "\n",
              "    .dataframe thead th {\n",
              "        text-align: right;\n",
              "    }\n",
              "</style>\n",
              "<table border=\"1\" class=\"dataframe\">\n",
              "  <thead>\n",
              "    <tr style=\"text-align: right;\">\n",
              "      <th></th>\n",
              "      <th>Census Year</th>\n",
              "      <th>Total Population</th>\n",
              "      <th>Census Cost</th>\n",
              "      <th>Average Cost Per Person</th>\n",
              "      <th>tot_pop</th>\n",
              "    </tr>\n",
              "  </thead>\n",
              "  <tbody>\n",
              "    <tr>\n",
              "      <th>count</th>\n",
              "      <td>23</td>\n",
              "      <td>23</td>\n",
              "      <td>23</td>\n",
              "      <td>23</td>\n",
              "      <td>2.300000e+01</td>\n",
              "    </tr>\n",
              "    <tr>\n",
              "      <th>unique</th>\n",
              "      <td>23</td>\n",
              "      <td>23</td>\n",
              "      <td>23</td>\n",
              "      <td>23</td>\n",
              "      <td>NaN</td>\n",
              "    </tr>\n",
              "    <tr>\n",
              "      <th>top</th>\n",
              "      <td>1970</td>\n",
              "      <td>9,633,822</td>\n",
              "      <td>$67,527,000</td>\n",
              "      <td>2.46 cents</td>\n",
              "      <td>NaN</td>\n",
              "    </tr>\n",
              "    <tr>\n",
              "      <th>freq</th>\n",
              "      <td>1</td>\n",
              "      <td>1</td>\n",
              "      <td>1</td>\n",
              "      <td>1</td>\n",
              "      <td>NaN</td>\n",
              "    </tr>\n",
              "    <tr>\n",
              "      <th>mean</th>\n",
              "      <td>NaN</td>\n",
              "      <td>NaN</td>\n",
              "      <td>NaN</td>\n",
              "      <td>NaN</td>\n",
              "      <td>1.039211e+08</td>\n",
              "    </tr>\n",
              "    <tr>\n",
              "      <th>std</th>\n",
              "      <td>NaN</td>\n",
              "      <td>NaN</td>\n",
              "      <td>NaN</td>\n",
              "      <td>NaN</td>\n",
              "      <td>9.622629e+07</td>\n",
              "    </tr>\n",
              "    <tr>\n",
              "      <th>min</th>\n",
              "      <td>NaN</td>\n",
              "      <td>NaN</td>\n",
              "      <td>NaN</td>\n",
              "      <td>NaN</td>\n",
              "      <td>3.929214e+06</td>\n",
              "    </tr>\n",
              "    <tr>\n",
              "      <th>25%</th>\n",
              "      <td>NaN</td>\n",
              "      <td>NaN</td>\n",
              "      <td>NaN</td>\n",
              "      <td>NaN</td>\n",
              "      <td>2.013067e+07</td>\n",
              "    </tr>\n",
              "    <tr>\n",
              "      <th>50%</th>\n",
              "      <td>NaN</td>\n",
              "      <td>NaN</td>\n",
              "      <td>NaN</td>\n",
              "      <td>NaN</td>\n",
              "      <td>7.630339e+07</td>\n",
              "    </tr>\n",
              "    <tr>\n",
              "      <th>75%</th>\n",
              "      <td>NaN</td>\n",
              "      <td>NaN</td>\n",
              "      <td>NaN</td>\n",
              "      <td>NaN</td>\n",
              "      <td>1.653245e+08</td>\n",
              "    </tr>\n",
              "    <tr>\n",
              "      <th>max</th>\n",
              "      <td>NaN</td>\n",
              "      <td>NaN</td>\n",
              "      <td>NaN</td>\n",
              "      <td>NaN</td>\n",
              "      <td>3.087455e+08</td>\n",
              "    </tr>\n",
              "  </tbody>\n",
              "</table>\n",
              "</div>"
            ],
            "text/plain": [
              "       Census Year Total Population  ... Average Cost Per Person       tot_pop\n",
              "count           23               23  ...                      23  2.300000e+01\n",
              "unique          23               23  ...                      23           NaN\n",
              "top           1970        9,633,822  ...              2.46 cents           NaN\n",
              "freq             1                1  ...                       1           NaN\n",
              "mean           NaN              NaN  ...                     NaN  1.039211e+08\n",
              "std            NaN              NaN  ...                     NaN  9.622629e+07\n",
              "min            NaN              NaN  ...                     NaN  3.929214e+06\n",
              "25%            NaN              NaN  ...                     NaN  2.013067e+07\n",
              "50%            NaN              NaN  ...                     NaN  7.630339e+07\n",
              "75%            NaN              NaN  ...                     NaN  1.653245e+08\n",
              "max            NaN              NaN  ...                     NaN  3.087455e+08\n",
              "\n",
              "[11 rows x 5 columns]"
            ]
          },
          "metadata": {},
          "execution_count": 55
        }
      ]
    },
    {
      "cell_type": "code",
      "metadata": {
        "id": "-Xj2kSefWd6F"
      },
      "source": [
        ""
      ],
      "execution_count": null,
      "outputs": []
    }
  ]
}