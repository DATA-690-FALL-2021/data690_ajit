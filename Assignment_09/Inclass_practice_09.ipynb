{
  "nbformat": 4,
  "nbformat_minor": 0,
  "metadata": {
    "colab": {
      "name": "Inclass_practice_09.ipynb",
      "provenance": [],
      "collapsed_sections": [],
      "authorship_tag": "ABX9TyMCHb4lPC1XMRmVUeoK3YRZ",
      "include_colab_link": true
    },
    "kernelspec": {
      "name": "python3",
      "display_name": "Python 3"
    },
    "language_info": {
      "name": "python"
    }
  },
  "cells": [
    {
      "cell_type": "markdown",
      "metadata": {
        "id": "view-in-github",
        "colab_type": "text"
      },
      "source": [
        "<a href=\"https://colab.research.google.com/github/ajitjadhav10/data690_ajit/blob/main/Assignment_09/Inclass_practice_09.ipynb\" target=\"_parent\"><img src=\"https://colab.research.google.com/assets/colab-badge.svg\" alt=\"Open In Colab\"/></a>"
      ]
    },
    {
      "cell_type": "markdown",
      "metadata": {
        "id": "6YO8J82pRFo6"
      },
      "source": [
        "### In-class practice-09\n",
        "- Name: Ajit Jadhav\n",
        "- Date: 10/28/2021\n"
      ]
    },
    {
      "cell_type": "code",
      "metadata": {
        "id": "XQma8JX9RBfH"
      },
      "source": [
        "import math_fuction as mf"
      ],
      "execution_count": 1,
      "outputs": []
    },
    {
      "cell_type": "code",
      "metadata": {
        "colab": {
          "base_uri": "https://localhost:8080/"
        },
        "id": "K9rFDVm0R9lt",
        "outputId": "4d1dab0d-0ee3-4d5d-a58a-3788bfa596f0"
      },
      "source": [
        "a= input(\"enter a number: \")"
      ],
      "execution_count": 2,
      "outputs": [
        {
          "name": "stdout",
          "output_type": "stream",
          "text": [
            "enter a number: 100\n"
          ]
        }
      ]
    },
    {
      "cell_type": "code",
      "metadata": {
        "colab": {
          "base_uri": "https://localhost:8080/"
        },
        "id": "6YSjRkuwSgc0",
        "outputId": "9dcc1b34-3436-4e04-a898-c993e56987a9"
      },
      "source": [
        "print(a)"
      ],
      "execution_count": 3,
      "outputs": [
        {
          "output_type": "stream",
          "name": "stdout",
          "text": [
            "100\n"
          ]
        }
      ]
    },
    {
      "cell_type": "code",
      "metadata": {
        "colab": {
          "base_uri": "https://localhost:8080/"
        },
        "id": "ynDXhyKMSiok",
        "outputId": "e1ba3b36-e4e3-48f7-b452-a386762578bc"
      },
      "source": [
        "b=input(\"enter a number:\")"
      ],
      "execution_count": 4,
      "outputs": [
        {
          "name": "stdout",
          "output_type": "stream",
          "text": [
            "enter a number:100\n"
          ]
        }
      ]
    },
    {
      "cell_type": "code",
      "metadata": {
        "colab": {
          "base_uri": "https://localhost:8080/"
        },
        "id": "Kp2S9tIFSnW9",
        "outputId": "3d21d83b-9910-4c2f-85bd-fae7b72de012"
      },
      "source": [
        "print(b)"
      ],
      "execution_count": 5,
      "outputs": [
        {
          "output_type": "stream",
          "name": "stdout",
          "text": [
            "100\n"
          ]
        }
      ]
    },
    {
      "cell_type": "code",
      "metadata": {
        "colab": {
          "base_uri": "https://localhost:8080/"
        },
        "id": "Z2Wx19pjSpGx",
        "outputId": "33b6c43f-e22a-4f08-c604-b9f1896b8ec0"
      },
      "source": [
        "c=mf.addition(a,b)\n",
        "print(c)"
      ],
      "execution_count": 6,
      "outputs": [
        {
          "output_type": "stream",
          "name": "stdout",
          "text": [
            "100100\n"
          ]
        }
      ]
    },
    {
      "cell_type": "code",
      "metadata": {
        "colab": {
          "base_uri": "https://localhost:8080/"
        },
        "id": "JYYufOJbSuGX",
        "outputId": "c7f8fb5b-ed9a-43f4-c6ce-f482f66b583a"
      },
      "source": [
        "a=23\n",
        "b=50\n",
        "\n",
        "c=mf.addition(a,b)\n",
        "\n",
        "print(c)"
      ],
      "execution_count": 8,
      "outputs": [
        {
          "output_type": "stream",
          "name": "stdout",
          "text": [
            "73\n"
          ]
        }
      ]
    },
    {
      "cell_type": "code",
      "metadata": {
        "id": "SA0YJyX_VumC"
      },
      "source": [
        ""
      ],
      "execution_count": 7,
      "outputs": []
    }
  ]
}