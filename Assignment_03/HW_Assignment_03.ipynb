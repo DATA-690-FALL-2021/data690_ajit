{
  "nbformat": 4,
  "nbformat_minor": 0,
  "metadata": {
    "colab": {
      "name": "HW_Assignment_03.ipynb",
      "provenance": [],
      "authorship_tag": "ABX9TyPNSHWns05z2wUj80lCD5Oi",
      "include_colab_link": true
    },
    "kernelspec": {
      "name": "python3",
      "display_name": "Python 3"
    },
    "language_info": {
      "name": "python"
    }
  },
  "cells": [
    {
      "cell_type": "markdown",
      "metadata": {
        "id": "view-in-github",
        "colab_type": "text"
      },
      "source": [
        "<a href=\"https://colab.research.google.com/github/ajitjadhav10/data690_ajit/blob/main/Assignment_03/HW_Assignment_03.ipynb\" target=\"_parent\"><img src=\"https://colab.research.google.com/assets/colab-badge.svg\" alt=\"Open In Colab\"/></a>"
      ]
    },
    {
      "cell_type": "markdown",
      "metadata": {
        "id": "eNrbOT7lX0Pr"
      },
      "source": [
        "### Assignment 03 for DATA 690 by Professor Wang\n",
        "\n",
        "Name: Ajit Jadhav\n"
      ]
    },
    {
      "cell_type": "markdown",
      "metadata": {
        "id": "4hSelj4OYRUo"
      },
      "source": [
        "1. Write a program that generates 100 random integers between 0 and 9.\n",
        "\n",
        "\n",
        "\n",
        "- Print them in a 10 by 10 matrix neatly arranged like the following (one space between each number):\n"
      ]
    },
    {
      "cell_type": "code",
      "metadata": {
        "colab": {
          "base_uri": "https://localhost:8080/"
        },
        "id": "kr-y02fk9ORG",
        "outputId": "479c2723-46b1-4c8a-fe51-4944046f0419"
      },
      "source": [
        "import random\n",
        "\n",
        "r,c=(10,10)\n",
        "\n",
        "for i in range(r):\n",
        "  for j in range(c):\n",
        "    print(random.randint(0,9), end=' ')\n",
        "  print()"
      ],
      "execution_count": 12,
      "outputs": [
        {
          "output_type": "stream",
          "name": "stdout",
          "text": [
            "3 4 5 1 2 1 2 5 1 4 \n",
            "4 1 0 6 3 4 3 0 3 1 \n",
            "6 1 9 3 8 6 3 1 9 5 \n",
            "2 8 1 9 5 5 5 2 8 1 \n",
            "7 0 0 6 9 0 3 3 6 7 \n",
            "5 2 1 6 1 0 7 4 9 4 \n",
            "6 0 5 3 8 9 3 3 8 6 \n",
            "6 4 9 4 1 9 2 5 8 4 \n",
            "9 1 7 8 1 5 3 7 9 2 \n",
            "7 2 6 6 4 1 2 1 8 3 \n"
          ]
        }
      ]
    },
    {
      "cell_type": "markdown",
      "metadata": {
        "id": "wv-m2yZyYuwT"
      },
      "source": [
        "- If the random number is an odd number, print \"@\" instead. like the following:\n"
      ]
    },
    {
      "cell_type": "code",
      "metadata": {
        "colab": {
          "base_uri": "https://localhost:8080/"
        },
        "id": "QEU8lqfD9PFd",
        "outputId": "2f3847a8-dcb1-4b16-e158-1d188d5f837d"
      },
      "source": [
        "import random\n",
        "\n",
        "r,c=(10,10)\n",
        "\n",
        "for i in range(r):\n",
        "  a=[]\n",
        "  for j in range(c):\n",
        "    value=random.randint(0,9)\n",
        "    if value%2==0:\n",
        "      print(value,end=' ')\n",
        "    else:\n",
        "      print(\"@\", end=' ')\n",
        "  print()"
      ],
      "execution_count": 13,
      "outputs": [
        {
          "output_type": "stream",
          "name": "stdout",
          "text": [
            "@ @ @ @ @ @ 6 6 @ 4 \n",
            "@ @ @ 6 @ @ @ 4 @ 8 \n",
            "8 6 0 @ @ 0 @ @ @ 2 \n",
            "@ @ 0 @ 2 8 6 @ @ 4 \n",
            "@ 6 4 @ 8 @ 4 @ 6 @ \n",
            "@ @ @ 2 0 4 @ @ 4 @ \n",
            "0 @ 0 @ 4 0 8 6 0 @ \n",
            "@ @ 2 @ 2 2 @ @ 0 @ \n",
            "8 @ @ @ @ @ @ @ @ @ \n",
            "8 4 @ 2 @ 6 0 2 0 0 \n"
          ]
        }
      ]
    },
    {
      "cell_type": "markdown",
      "metadata": {
        "id": "4P0Xm-lPY-p4"
      },
      "source": [
        "- Calculate and Print the total of each row like the following (use \"*\" to separate the total from the numbers):\n"
      ]
    },
    {
      "cell_type": "code",
      "metadata": {
        "colab": {
          "base_uri": "https://localhost:8080/"
        },
        "id": "xe55tHxc_buD",
        "outputId": "cd277ab0-ee61-4e3c-a000-f847d02063d2"
      },
      "source": [
        "import random\n",
        "\n",
        "r,c=(10,10)\n",
        "\n",
        "for i in range(r):\n",
        "  total=0\n",
        "  for j in range(c):\n",
        "    b=random.randint(0,9)\n",
        "    total=total+b\n",
        "\n",
        "    print(b, end=\" \")\n",
        "  print(\"*\",str(total))"
      ],
      "execution_count": 14,
      "outputs": [
        {
          "output_type": "stream",
          "name": "stdout",
          "text": [
            "0 8 2 5 0 4 6 4 5 4 * 38\n",
            "1 7 7 0 1 4 3 8 0 5 * 36\n",
            "1 3 2 4 4 2 2 0 2 1 * 21\n",
            "2 1 1 4 7 9 6 4 2 2 * 38\n",
            "3 2 8 1 4 1 9 0 6 4 * 38\n",
            "2 4 9 1 3 9 8 5 6 0 * 47\n",
            "2 3 7 9 7 8 6 9 3 2 * 56\n",
            "1 4 3 4 4 7 7 7 9 1 * 47\n",
            "6 4 9 3 5 8 6 9 8 3 * 61\n",
            "5 6 4 5 9 1 7 5 5 1 * 48\n"
          ]
        }
      ]
    },
    {
      "cell_type": "code",
      "metadata": {
        "id": "zGYTYaBdCeXQ"
      },
      "source": [
        ""
      ],
      "execution_count": null,
      "outputs": []
    }
  ]
}