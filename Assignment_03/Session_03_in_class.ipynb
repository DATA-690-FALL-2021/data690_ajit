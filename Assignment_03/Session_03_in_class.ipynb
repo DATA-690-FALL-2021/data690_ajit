{
  "nbformat": 4,
  "nbformat_minor": 0,
  "metadata": {
    "colab": {
      "name": "Session_03_in class.ipynb",
      "provenance": [],
      "authorship_tag": "ABX9TyO3F8kIOivPaLjg1NtWDAnb",
      "include_colab_link": true
    },
    "kernelspec": {
      "name": "python3",
      "display_name": "Python 3"
    },
    "language_info": {
      "name": "python"
    }
  },
  "cells": [
    {
      "cell_type": "markdown",
      "metadata": {
        "id": "view-in-github",
        "colab_type": "text"
      },
      "source": [
        "<a href=\"https://colab.research.google.com/github/ajitjadhav10/data690_ajit/blob/main/Assignment_03/Session_03_in_class.ipynb\" target=\"_parent\"><img src=\"https://colab.research.google.com/assets/colab-badge.svg\" alt=\"Open In Colab\"/></a>"
      ]
    },
    {
      "cell_type": "markdown",
      "metadata": {
        "id": "hP05VYMH8SBE"
      },
      "source": [
        "### Session 3 in-class practice\n",
        "- Ajit Jadhav\n",
        "- 09/16/2021\n"
      ]
    },
    {
      "cell_type": "markdown",
      "metadata": {
        "id": "u5FivdPd82v0"
      },
      "source": [
        "\n",
        "#### 1. List comprehension"
      ]
    },
    {
      "cell_type": "code",
      "metadata": {
        "colab": {
          "base_uri": "https://localhost:8080/"
        },
        "id": "8xo5C4Ro8QQ3",
        "outputId": "3bd70897-8ec3-4db3-dd61-4b04bceb8799"
      },
      "source": [
        "#This if traditional way of using for loop\n",
        "x=[2,5,-7,10,12]\n",
        "\n",
        "y=[]  \n",
        "\n",
        "for i in x:\n",
        "  new_number= i+10\n",
        "  print(new_number)\n",
        "  y.append(new_number)\n",
        "\n",
        "print(y)"
      ],
      "execution_count": 2,
      "outputs": [
        {
          "output_type": "stream",
          "name": "stdout",
          "text": [
            "12\n",
            "15\n",
            "3\n",
            "20\n",
            "22\n",
            "[12, 15, 3, 20, 22]\n"
          ]
        }
      ]
    },
    {
      "cell_type": "code",
      "metadata": {
        "colab": {
          "base_uri": "https://localhost:8080/"
        },
        "id": "qvS0P3bT9nHB",
        "outputId": "8fd7d51a-1d64-4468-a3bb-c2a3d71addad"
      },
      "source": [
        "# New way of using List comprehension\n",
        "\n",
        "y=[i+10 for i in x]\n",
        "\n",
        "print(y)"
      ],
      "execution_count": 4,
      "outputs": [
        {
          "output_type": "stream",
          "name": "stdout",
          "text": [
            "[12, 15, 3, 20, 22]\n"
          ]
        }
      ]
    },
    {
      "cell_type": "markdown",
      "metadata": {
        "id": "rVwXi3aI-0lH"
      },
      "source": [
        "#### 2. User-defined Functions"
      ]
    },
    {
      "cell_type": "code",
      "metadata": {
        "id": "PfDmaaGD-Z_8"
      },
      "source": [
        "def addition(a,b):\n",
        "    return a+b"
      ],
      "execution_count": 7,
      "outputs": []
    },
    {
      "cell_type": "code",
      "metadata": {
        "colab": {
          "base_uri": "https://localhost:8080/"
        },
        "id": "RHitXJqz_dOT",
        "outputId": "4ee6f5c8-203e-4f21-b244-ed1440917f70"
      },
      "source": [
        "y = addition(5,10)\n",
        "print(y)"
      ],
      "execution_count": 8,
      "outputs": [
        {
          "output_type": "stream",
          "name": "stdout",
          "text": [
            "15\n"
          ]
        }
      ]
    },
    {
      "cell_type": "code",
      "metadata": {
        "id": "wsIFPeIw_wb6"
      },
      "source": [
        "def division(a,b):\n",
        "    return a/b"
      ],
      "execution_count": 11,
      "outputs": []
    },
    {
      "cell_type": "code",
      "metadata": {
        "colab": {
          "base_uri": "https://localhost:8080/"
        },
        "id": "p7lrikNL_8_N",
        "outputId": "eb9b5515-b3cc-4800-c5f4-0e7b3c76a588"
      },
      "source": [
        "y = division(100,20)\n",
        "print(y)"
      ],
      "execution_count": 12,
      "outputs": [
        {
          "output_type": "stream",
          "name": "stdout",
          "text": [
            "5.0\n"
          ]
        }
      ]
    },
    {
      "cell_type": "markdown",
      "metadata": {
        "id": "VS-hO4ZfCVhe"
      },
      "source": [
        "#### 3. Data Wrangling"
      ]
    },
    {
      "cell_type": "code",
      "metadata": {
        "id": "sbvnbC5ED8aV"
      },
      "source": [
        "  12334324 ##Ctrl + } will add 4 spaces to the left and Ctrl+{ will add 4 spaces to the right "
      ],
      "execution_count": null,
      "outputs": []
    },
    {
      "cell_type": "code",
      "metadata": {
        "colab": {
          "base_uri": "https://localhost:8080/"
        },
        "id": "mKlLvuUAACpw",
        "outputId": "8915c89a-db25-4f45-e5be-dd38174e5fab"
      },
      "source": [
        "header_string = \"\"\"\n",
        "  age: continuous.\n",
        "  workclass: Private, Self-emp-not-inc, Self-emp-inc, Federal-gov, Local-gov, State-gov, Without-pay, Never-worked.\n",
        "  fnlwgt: continuous.\n",
        "  education: Bachelors, Some-college, 11th, HS-grad, Prof-school, Assoc-acdm, Assoc-voc, 9th, 7th-8th, 12th, Masters, 1st-4th, 10th, Doctorate, 5th-6th, Preschool.\n",
        "  education-num: continuous.\n",
        "  marital-status: Married-civ-spouse, Divorced, Never-married, Separated, Widowed, Married-spouse-absent, Married-AF-spouse.\n",
        "  occupation: Tech-support, Craft-repair, Other-service, Sales, Exec-managerial, Prof-specialty, Handlers-cleaners, Machine-op-inspct, Adm-clerical, Farming-fishing, Transport-moving, Priv-house-serv, Protective-serv, Armed-Forces.\n",
        "  relationship: Wife, Own-child, Husband, Not-in-family, Other-relative, Unmarried.\n",
        "  race: White, Asian-Pac-Islander, Amer-Indian-Eskimo, Other, Black.\n",
        "  sex: Female, Male.\n",
        "  capital-gain: continuous.\n",
        "  capital-loss: continuous.\n",
        "  hours-per-week: continuous.\n",
        "  native-country: United-States, Cambodia, England, Puerto-Rico, Canada, Germany, Outlying-US(Guam-USVI-etc), India, Japan, Greece, South, China, Cuba, Iran, Honduras, Philippines, Italy, Poland, Jamaica, Vietnam, Mexico, Portugal, Ireland, France, Dominican-Republic, Laos, Ecuador, Taiwan, Haiti, Columbia, Hungary, Guatemala, Nicaragua, Scotland, Thailand, Yugoslavia, El-Salvador, Trinadad&Tobago, Peru, Hong, Holand-Netherlands.\n",
        "\"\"\"\n",
        "\n",
        "type(header_string)"
      ],
      "execution_count": 22,
      "outputs": [
        {
          "output_type": "execute_result",
          "data": {
            "text/plain": [
              "str"
            ]
          },
          "metadata": {},
          "execution_count": 22
        }
      ]
    },
    {
      "cell_type": "code",
      "metadata": {
        "colab": {
          "base_uri": "https://localhost:8080/"
        },
        "id": "nYQh1lh-EnR4",
        "outputId": "0cea7fab-7459-4f8f-8d82-3ede429138ff"
      },
      "source": [
        "len(header_string)"
      ],
      "execution_count": 23,
      "outputs": [
        {
          "output_type": "execute_result",
          "data": {
            "text/plain": [
              "1402"
            ]
          },
          "metadata": {},
          "execution_count": 23
        }
      ]
    },
    {
      "cell_type": "code",
      "metadata": {
        "colab": {
          "base_uri": "https://localhost:8080/"
        },
        "id": "nK4dc0cpErrl",
        "outputId": "18cd579c-238d-46fc-d685-5701ccc5a7a4"
      },
      "source": [
        "print(header_string)"
      ],
      "execution_count": 24,
      "outputs": [
        {
          "output_type": "stream",
          "name": "stdout",
          "text": [
            "\n",
            "  age: continuous.\n",
            "  workclass: Private, Self-emp-not-inc, Self-emp-inc, Federal-gov, Local-gov, State-gov, Without-pay, Never-worked.\n",
            "  fnlwgt: continuous.\n",
            "  education: Bachelors, Some-college, 11th, HS-grad, Prof-school, Assoc-acdm, Assoc-voc, 9th, 7th-8th, 12th, Masters, 1st-4th, 10th, Doctorate, 5th-6th, Preschool.\n",
            "  education-num: continuous.\n",
            "  marital-status: Married-civ-spouse, Divorced, Never-married, Separated, Widowed, Married-spouse-absent, Married-AF-spouse.\n",
            "  occupation: Tech-support, Craft-repair, Other-service, Sales, Exec-managerial, Prof-specialty, Handlers-cleaners, Machine-op-inspct, Adm-clerical, Farming-fishing, Transport-moving, Priv-house-serv, Protective-serv, Armed-Forces.\n",
            "  relationship: Wife, Own-child, Husband, Not-in-family, Other-relative, Unmarried.\n",
            "  race: White, Asian-Pac-Islander, Amer-Indian-Eskimo, Other, Black.\n",
            "  sex: Female, Male.\n",
            "  capital-gain: continuous.\n",
            "  capital-loss: continuous.\n",
            "  hours-per-week: continuous.\n",
            "  native-country: United-States, Cambodia, England, Puerto-Rico, Canada, Germany, Outlying-US(Guam-USVI-etc), India, Japan, Greece, South, China, Cuba, Iran, Honduras, Philippines, Italy, Poland, Jamaica, Vietnam, Mexico, Portugal, Ireland, France, Dominican-Republic, Laos, Ecuador, Taiwan, Haiti, Columbia, Hungary, Guatemala, Nicaragua, Scotland, Thailand, Yugoslavia, El-Salvador, Trinadad&Tobago, Peru, Hong, Holand-Netherlands.\n",
            "\n"
          ]
        }
      ]
    },
    {
      "cell_type": "code",
      "metadata": {
        "colab": {
          "base_uri": "https://localhost:8080/"
        },
        "id": "ZOXk-TGrFDNb",
        "outputId": "6f690532-3df1-44bd-e74a-264bfb4f02be"
      },
      "source": [
        "header_list=header_string.split(\"\\n\")\n",
        "print(header_list)"
      ],
      "execution_count": 25,
      "outputs": [
        {
          "output_type": "stream",
          "name": "stdout",
          "text": [
            "['', '  age: continuous.', '  workclass: Private, Self-emp-not-inc, Self-emp-inc, Federal-gov, Local-gov, State-gov, Without-pay, Never-worked.', '  fnlwgt: continuous.', '  education: Bachelors, Some-college, 11th, HS-grad, Prof-school, Assoc-acdm, Assoc-voc, 9th, 7th-8th, 12th, Masters, 1st-4th, 10th, Doctorate, 5th-6th, Preschool.', '  education-num: continuous.', '  marital-status: Married-civ-spouse, Divorced, Never-married, Separated, Widowed, Married-spouse-absent, Married-AF-spouse.', '  occupation: Tech-support, Craft-repair, Other-service, Sales, Exec-managerial, Prof-specialty, Handlers-cleaners, Machine-op-inspct, Adm-clerical, Farming-fishing, Transport-moving, Priv-house-serv, Protective-serv, Armed-Forces.', '  relationship: Wife, Own-child, Husband, Not-in-family, Other-relative, Unmarried.', '  race: White, Asian-Pac-Islander, Amer-Indian-Eskimo, Other, Black.', '  sex: Female, Male.', '  capital-gain: continuous.', '  capital-loss: continuous.', '  hours-per-week: continuous.', '  native-country: United-States, Cambodia, England, Puerto-Rico, Canada, Germany, Outlying-US(Guam-USVI-etc), India, Japan, Greece, South, China, Cuba, Iran, Honduras, Philippines, Italy, Poland, Jamaica, Vietnam, Mexico, Portugal, Ireland, France, Dominican-Republic, Laos, Ecuador, Taiwan, Haiti, Columbia, Hungary, Guatemala, Nicaragua, Scotland, Thailand, Yugoslavia, El-Salvador, Trinadad&Tobago, Peru, Hong, Holand-Netherlands.', '']\n"
          ]
        }
      ]
    },
    {
      "cell_type": "code",
      "metadata": {
        "colab": {
          "base_uri": "https://localhost:8080/"
        },
        "id": "4FSjqpLsE8s6",
        "outputId": "638348b1-4b2c-4d9a-8ce3-ed303471836d"
      },
      "source": [
        "len(header_list)"
      ],
      "execution_count": 26,
      "outputs": [
        {
          "output_type": "execute_result",
          "data": {
            "text/plain": [
              "16"
            ]
          },
          "metadata": {},
          "execution_count": 26
        }
      ]
    },
    {
      "cell_type": "code",
      "metadata": {
        "colab": {
          "base_uri": "https://localhost:8080/",
          "height": 35
        },
        "id": "vKy_tWehFeCg",
        "outputId": "eafcc3e7-8f29-461e-fd05-428656cf8bf9"
      },
      "source": [
        "header_list[0]"
      ],
      "execution_count": 27,
      "outputs": [
        {
          "output_type": "execute_result",
          "data": {
            "application/vnd.google.colaboratory.intrinsic+json": {
              "type": "string"
            },
            "text/plain": [
              "''"
            ]
          },
          "metadata": {},
          "execution_count": 27
        }
      ]
    },
    {
      "cell_type": "code",
      "metadata": {
        "colab": {
          "base_uri": "https://localhost:8080/",
          "height": 35
        },
        "id": "dq1HW1J1FuQl",
        "outputId": "4974c4cf-6796-4946-dcd7-0147f8c8e74d"
      },
      "source": [
        "header_list[2]"
      ],
      "execution_count": 28,
      "outputs": [
        {
          "output_type": "execute_result",
          "data": {
            "application/vnd.google.colaboratory.intrinsic+json": {
              "type": "string"
            },
            "text/plain": [
              "'  workclass: Private, Self-emp-not-inc, Self-emp-inc, Federal-gov, Local-gov, State-gov, Without-pay, Never-worked.'"
            ]
          },
          "metadata": {},
          "execution_count": 28
        }
      ]
    },
    {
      "cell_type": "code",
      "metadata": {
        "colab": {
          "base_uri": "https://localhost:8080/",
          "height": 35
        },
        "id": "rjOIUuXeFxoR",
        "outputId": "734ce9b7-82ef-48c3-92d2-9aed6f836614"
      },
      "source": [
        "header_list[15]"
      ],
      "execution_count": 29,
      "outputs": [
        {
          "output_type": "execute_result",
          "data": {
            "application/vnd.google.colaboratory.intrinsic+json": {
              "type": "string"
            },
            "text/plain": [
              "''"
            ]
          },
          "metadata": {},
          "execution_count": 29
        }
      ]
    },
    {
      "cell_type": "code",
      "metadata": {
        "colab": {
          "base_uri": "https://localhost:8080/"
        },
        "id": "0KlmSr2zF3_c",
        "outputId": "cd9bfa05-5d3d-4d65-b517-914f20500869"
      },
      "source": [
        "header_list2=header_list[1:15]\n",
        "header_list2"
      ],
      "execution_count": 30,
      "outputs": [
        {
          "output_type": "execute_result",
          "data": {
            "text/plain": [
              "['  age: continuous.',\n",
              " '  workclass: Private, Self-emp-not-inc, Self-emp-inc, Federal-gov, Local-gov, State-gov, Without-pay, Never-worked.',\n",
              " '  fnlwgt: continuous.',\n",
              " '  education: Bachelors, Some-college, 11th, HS-grad, Prof-school, Assoc-acdm, Assoc-voc, 9th, 7th-8th, 12th, Masters, 1st-4th, 10th, Doctorate, 5th-6th, Preschool.',\n",
              " '  education-num: continuous.',\n",
              " '  marital-status: Married-civ-spouse, Divorced, Never-married, Separated, Widowed, Married-spouse-absent, Married-AF-spouse.',\n",
              " '  occupation: Tech-support, Craft-repair, Other-service, Sales, Exec-managerial, Prof-specialty, Handlers-cleaners, Machine-op-inspct, Adm-clerical, Farming-fishing, Transport-moving, Priv-house-serv, Protective-serv, Armed-Forces.',\n",
              " '  relationship: Wife, Own-child, Husband, Not-in-family, Other-relative, Unmarried.',\n",
              " '  race: White, Asian-Pac-Islander, Amer-Indian-Eskimo, Other, Black.',\n",
              " '  sex: Female, Male.',\n",
              " '  capital-gain: continuous.',\n",
              " '  capital-loss: continuous.',\n",
              " '  hours-per-week: continuous.',\n",
              " '  native-country: United-States, Cambodia, England, Puerto-Rico, Canada, Germany, Outlying-US(Guam-USVI-etc), India, Japan, Greece, South, China, Cuba, Iran, Honduras, Philippines, Italy, Poland, Jamaica, Vietnam, Mexico, Portugal, Ireland, France, Dominican-Republic, Laos, Ecuador, Taiwan, Haiti, Columbia, Hungary, Guatemala, Nicaragua, Scotland, Thailand, Yugoslavia, El-Salvador, Trinadad&Tobago, Peru, Hong, Holand-Netherlands.']"
            ]
          },
          "metadata": {},
          "execution_count": 30
        }
      ]
    },
    {
      "cell_type": "code",
      "metadata": {
        "colab": {
          "base_uri": "https://localhost:8080/"
        },
        "id": "zH3z0CiLGE_0",
        "outputId": "ba08db0d-79fa-4db1-9e22-ef0bcaf53e42"
      },
      "source": [
        "header_list3=[]\n",
        "\n",
        "for item in header_list2:\n",
        "    header_info = item.split(\":\")\n",
        "    print(header_info[0])\n",
        "    header_list3.append(header_info[0])\n",
        "\n",
        "print(header_list3)"
      ],
      "execution_count": 35,
      "outputs": [
        {
          "output_type": "stream",
          "name": "stdout",
          "text": [
            "  age\n",
            "  workclass\n",
            "  fnlwgt\n",
            "  education\n",
            "  education-num\n",
            "  marital-status\n",
            "  occupation\n",
            "  relationship\n",
            "  race\n",
            "  sex\n",
            "  capital-gain\n",
            "  capital-loss\n",
            "  hours-per-week\n",
            "  native-country\n",
            "['  age', '  workclass', '  fnlwgt', '  education', '  education-num', '  marital-status', '  occupation', '  relationship', '  race', '  sex', '  capital-gain', '  capital-loss', '  hours-per-week', '  native-country']\n"
          ]
        }
      ]
    },
    {
      "cell_type": "code",
      "metadata": {
        "id": "NOTfOTFqGzfk"
      },
      "source": [
        ""
      ],
      "execution_count": null,
      "outputs": []
    }
  ]
}