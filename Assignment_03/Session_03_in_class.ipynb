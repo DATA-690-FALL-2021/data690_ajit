{
  "nbformat": 4,
  "nbformat_minor": 0,
  "metadata": {
    "colab": {
      "name": "Session_03_in class.ipynb",
      "provenance": [],
      "authorship_tag": "ABX9TyOZBDS4tIUM3OV7a+koTrRP",
      "include_colab_link": true
    },
    "kernelspec": {
      "name": "python3",
      "display_name": "Python 3"
    },
    "language_info": {
      "name": "python"
    }
  },
  "cells": [
    {
      "cell_type": "markdown",
      "metadata": {
        "id": "view-in-github",
        "colab_type": "text"
      },
      "source": [
        "<a href=\"https://colab.research.google.com/github/ajitjadhav10/data690_ajit/blob/main/Assignment_03/Session_03_in_class.ipynb\" target=\"_parent\"><img src=\"https://colab.research.google.com/assets/colab-badge.svg\" alt=\"Open In Colab\"/></a>"
      ]
    },
    {
      "cell_type": "markdown",
      "metadata": {
        "id": "hP05VYMH8SBE"
      },
      "source": [
        "### Session 3 in-class practice\n",
        "- Ajit Jadhav\n",
        "- 09/16/2021\n"
      ]
    },
    {
      "cell_type": "markdown",
      "metadata": {
        "id": "u5FivdPd82v0"
      },
      "source": [
        "\n",
        "#### 1. List comprehension"
      ]
    },
    {
      "cell_type": "code",
      "metadata": {
        "colab": {
          "base_uri": "https://localhost:8080/"
        },
        "id": "8xo5C4Ro8QQ3",
        "outputId": "3bd70897-8ec3-4db3-dd61-4b04bceb8799"
      },
      "source": [
        "#This if traditional way of using for loop\n",
        "x=[2,5,-7,10,12]\n",
        "\n",
        "y=[]  \n",
        "\n",
        "for i in x:\n",
        "  new_number= i+10\n",
        "  print(new_number)\n",
        "  y.append(new_number)\n",
        "\n",
        "print(y)"
      ],
      "execution_count": 2,
      "outputs": [
        {
          "output_type": "stream",
          "name": "stdout",
          "text": [
            "12\n",
            "15\n",
            "3\n",
            "20\n",
            "22\n",
            "[12, 15, 3, 20, 22]\n"
          ]
        }
      ]
    },
    {
      "cell_type": "code",
      "metadata": {
        "colab": {
          "base_uri": "https://localhost:8080/"
        },
        "id": "qvS0P3bT9nHB",
        "outputId": "8fd7d51a-1d64-4468-a3bb-c2a3d71addad"
      },
      "source": [
        "# New way of using List comprehension\n",
        "\n",
        "y=[i+10 for i in x]\n",
        "\n",
        "print(y)"
      ],
      "execution_count": 4,
      "outputs": [
        {
          "output_type": "stream",
          "name": "stdout",
          "text": [
            "[12, 15, 3, 20, 22]\n"
          ]
        }
      ]
    },
    {
      "cell_type": "markdown",
      "metadata": {
        "id": "rVwXi3aI-0lH"
      },
      "source": [
        "#### 2. User-defined Functions"
      ]
    },
    {
      "cell_type": "code",
      "metadata": {
        "id": "PfDmaaGD-Z_8"
      },
      "source": [
        "def addition(a,b):\n",
        "    return a+b"
      ],
      "execution_count": 7,
      "outputs": []
    },
    {
      "cell_type": "code",
      "metadata": {
        "colab": {
          "base_uri": "https://localhost:8080/"
        },
        "id": "RHitXJqz_dOT",
        "outputId": "4ee6f5c8-203e-4f21-b244-ed1440917f70"
      },
      "source": [
        "y = addition(5,10)\n",
        "print(y)"
      ],
      "execution_count": 8,
      "outputs": [
        {
          "output_type": "stream",
          "name": "stdout",
          "text": [
            "15\n"
          ]
        }
      ]
    },
    {
      "cell_type": "code",
      "metadata": {
        "id": "wsIFPeIw_wb6"
      },
      "source": [
        "def division(a,b):\n",
        "    return a/b"
      ],
      "execution_count": 11,
      "outputs": []
    },
    {
      "cell_type": "code",
      "metadata": {
        "colab": {
          "base_uri": "https://localhost:8080/"
        },
        "id": "p7lrikNL_8_N",
        "outputId": "eb9b5515-b3cc-4800-c5f4-0e7b3c76a588"
      },
      "source": [
        "y = division(100,20)\n",
        "print(y)"
      ],
      "execution_count": 12,
      "outputs": [
        {
          "output_type": "stream",
          "name": "stdout",
          "text": [
            "5.0\n"
          ]
        }
      ]
    },
    {
      "cell_type": "code",
      "metadata": {
        "id": "mKlLvuUAACpw"
      },
      "source": [
        ""
      ],
      "execution_count": null,
      "outputs": []
    }
  ]
}